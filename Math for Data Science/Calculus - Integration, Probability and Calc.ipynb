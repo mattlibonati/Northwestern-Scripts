{
 "cells": [
  {
   "cell_type": "markdown",
   "metadata": {},
   "source": [
    "Modules "
   ]
  },
  {
   "cell_type": "code",
   "execution_count": 10,
   "metadata": {},
   "outputs": [],
   "source": [
    "from sympy import *\n",
    "import numpy as np\n",
    "import matplotlib.pyplot as plt\n",
    "from matplotlib.pyplot import *\n",
    "import math\n",
    "import statistics "
   ]
  },
  {
   "cell_type": "code",
   "execution_count": 5,
   "metadata": {},
   "outputs": [],
   "source": [
    "x = Symbol('x')\n",
    "a = Symbol('a')\n",
    "b = Symbol('b')\n",
    "h = Symbol('h')"
   ]
  },
  {
   "cell_type": "markdown",
   "metadata": {},
   "source": [
    "# Determining Quantities at Intervals"
   ]
  },
  {
   "cell_type": "markdown",
   "metadata": {},
   "source": [
    "#### Question 1 "
   ]
  },
  {
   "attachments": {
    "Determining%20Quanities%20at%20Intervals%20-%201.PNG": {
     "image/png": "[encoded data removed]"
    }
   },
   "cell_type": "markdown",
   "metadata": {},
   "source": [
    "![Determining%20Quanities%20at%20Intervals%20-%201.PNG](attachment:Determining%20Quanities%20at%20Intervals%20-%201.PNG)"
   ]
  },
  {
   "cell_type": "markdown",
   "metadata": {},
   "source": [
    "a. Find the total number of barrels that the ship will leak on the first day."
   ]
  },
  {
   "cell_type": "code",
   "execution_count": 15,
   "metadata": {},
   "outputs": [
    {
     "data": {
      "text/plain": [
       "393.7241398849957"
      ]
     },
     "execution_count": 15,
     "metadata": {},
     "output_type": "execute_result"
    }
   ],
   "source": [
    "t = Symbol('t')\n",
    "# derivative\n",
    "derivative = (76*log(t+1))/(t+1)\n",
    "derivative_f = lambdify(t,derivative,'numpy')\n",
    "\n",
    "#integral \n",
    "integral = integrate(derivative)\n",
    "integral_f = lambdify(t,integral,'numpy')\n",
    "\n",
    "integral_f(24)\n",
    "# interpreted as the ship will leak 394 barrels on the first day"
   ]
  },
  {
   "cell_type": "markdown",
   "metadata": {},
   "source": [
    "(b) Find the total number of barrels that the ship will leak on the second day."
   ]
  },
  {
   "cell_type": "code",
   "execution_count": 17,
   "metadata": {},
   "outputs": [
    {
     "data": {
      "text/plain": [
       "181.83393896086795"
      ]
     },
     "execution_count": 17,
     "metadata": {},
     "output_type": "execute_result"
    }
   ],
   "source": [
    "# this is determined by finding the area between both points.\n",
    "integral_f(48)-integral_f(24)"
   ]
  },
  {
   "cell_type": "markdown",
   "metadata": {},
   "source": [
    "​(c) What is happening over the long run to the amount of oil leaked per​ day? Select the correct choice below and fill in the answer box to complete your choice."
   ]
  },
  {
   "cell_type": "markdown",
   "metadata": {},
   "source": [
    "The amount of oil leaking is decreasing to 0."
   ]
  },
  {
   "cell_type": "markdown",
   "metadata": {},
   "source": [
    "# Probability Density"
   ]
  },
  {
   "cell_type": "markdown",
   "metadata": {},
   "source": [
    "Exponential Probability Distribution = a*e^(-a*t)"
   ]
  },
  {
   "cell_type": "markdown",
   "metadata": {},
   "source": [
    "#### Question 1 - Exponential Probability Distribution"
   ]
  },
  {
   "cell_type": "markdown",
   "metadata": {},
   "source": [
    "It is found that the time​ (in minutes) required by a predator to find a prey is a random variable that is exponentially distributed with u=29."
   ]
  },
  {
   "cell_type": "markdown",
   "metadata": {},
   "source": [
    "A.  According to this​ distribution, what is the longest time within which the predator will be 90​% certain of finding a​ prey?"
   ]
  },
  {
   "cell_type": "code",
   "execution_count": 19,
   "metadata": {},
   "outputs": [
    {
     "data": {
      "text/latex": [
       "$\\displaystyle - 1.0 e^{- \\frac{t}{80}}$"
      ],
      "text/plain": [
       "-1.0*exp(-t/80)"
      ]
     },
     "execution_count": 19,
     "metadata": {},
     "output_type": "execute_result"
    }
   ],
   "source": [
    "t = Symbol('t')\n",
    "function = (1/80)*E**(-t/80)\n",
    "#function = E**(-t/29)\n",
    "integral = integrate(function)\n",
    "integral_f = lambdify(t,integral,'numpy')\n",
    "#integral_f(.9)\n",
    "integral"
   ]
  },
  {
   "cell_type": "code",
   "execution_count": 41,
   "metadata": {},
   "outputs": [
    {
     "data": {
      "text/latex": [
       "$\\displaystyle 66.7749676968273$"
      ],
      "text/plain": [
       "66.7749676968273"
      ]
     },
     "execution_count": 41,
     "metadata": {},
     "output_type": "execute_result"
    }
   ],
   "source": [
    "# take 1 - .9 = .1\n",
    "# t = \n",
    "-29*log(.1)\n",
    "# interpreted as the longest time within which the predator will be 90% \n",
    "# certian of finding a prey is  ~73.7 minutes"
   ]
  },
  {
   "cell_type": "markdown",
   "metadata": {},
   "source": [
    "B.  To find the probability that the predator will have to spend more than 1 hour looking for a​ prey, we need to integrate the probability function from a = 60 to b = infinity."
   ]
  },
  {
   "cell_type": "code",
   "execution_count": 39,
   "metadata": {},
   "outputs": [
    {
     "data": {
      "text/latex": [
       "$\\displaystyle 0.12631638626303$"
      ],
      "text/plain": [
       "0.126316386263030"
      ]
     },
     "execution_count": 39,
     "metadata": {},
     "output_type": "execute_result"
    }
   ],
   "source": [
    "# simplify (-60/29) (minute,u)\n",
    "E**(-60/29)\n",
    "# interpreted as probability the predator will spend more than 1 hour looking for a prey is 0.1534"
   ]
  },
  {
   "cell_type": "markdown",
   "metadata": {},
   "source": [
    "### Homework Problem 2:"
   ]
  },
  {
   "cell_type": "markdown",
   "metadata": {},
   "source": [
    "The derivative = 7.8*x-16.9. At x = 3, the integral = 9.7."
   ]
  },
  {
   "cell_type": "code",
   "execution_count": 22,
   "metadata": {},
   "outputs": [
    {
     "data": {
      "text/latex": [
       "$\\displaystyle 3.9 x^{2} - 16.9 x$"
      ],
      "text/plain": [
       "3.9*x**2 - 16.9*x"
      ]
     },
     "execution_count": 22,
     "metadata": {},
     "output_type": "execute_result"
    }
   ],
   "source": [
    "derivative = integrate(7.8*x-16.9)\n",
    "derivative"
   ]
  },
  {
   "cell_type": "code",
   "execution_count": 23,
   "metadata": {},
   "outputs": [
    {
     "data": {
      "text/plain": [
       "-15.599999999999994"
      ]
     },
     "execution_count": 23,
     "metadata": {},
     "output_type": "execute_result"
    }
   ],
   "source": [
    "integral = lambdify(x,derivative,'numpy')\n",
    "integral(3)"
   ]
  },
  {
   "cell_type": "code",
   "execution_count": 25,
   "metadata": {},
   "outputs": [
    {
     "data": {
      "text/latex": [
       "$\\displaystyle 3.9 x^{2} - 16.9 x + 25.3$"
      ],
      "text/plain": [
       "3.9*x**2 - 16.9*x + 25.3"
      ]
     },
     "execution_count": 25,
     "metadata": {},
     "output_type": "execute_result"
    }
   ],
   "source": [
    "total_function = 3.9*x**2 - 16.9*x + 25.3\n",
    "total_fn = lambdify(x,total_function,'numpy')\n",
    "total_function"
   ]
  },
  {
   "cell_type": "code",
   "execution_count": 26,
   "metadata": {
    "scrolled": true
   },
   "outputs": [
    {
     "data": {
      "text/plain": [
       "189.1"
      ]
     },
     "execution_count": 26,
     "metadata": {},
     "output_type": "execute_result"
    }
   ],
   "source": [
    "total_fn(9)"
   ]
  },
  {
   "cell_type": "markdown",
   "metadata": {},
   "source": [
    "### Homework Problem 3:"
   ]
  },
  {
   "cell_type": "code",
   "execution_count": 6,
   "metadata": {},
   "outputs": [],
   "source": [
    "exp = Rational(-2/3)\n",
    "derivative = 4*x*(x**2+27000)**exp\n",
    "derivative"
   ]
  },
  {
   "cell_type": "markdown",
   "metadata": {},
   "source": [
    "# Area Under Curve - Rectangle"
   ]
  },
  {
   "cell_type": "markdown",
   "metadata": {},
   "source": [
    "#### Hw Prob 5:"
   ]
  },
  {
   "attachments": {
    "Module%208%20-%20HW%20Q%205.PNG": {
     "image/png": "[encoded data removed]"
    }
   },
   "cell_type": "markdown",
   "metadata": {},
   "source": [
    "![Module%208%20-%20HW%20Q%205.PNG](attachment:Module%208%20-%20HW%20Q%205.PNG)"
   ]
  },
  {
   "cell_type": "markdown",
   "metadata": {},
   "source": [
    "Using left end point:"
   ]
  },
  {
   "cell_type": "code",
   "execution_count": 9,
   "metadata": {},
   "outputs": [
    {
     "name": "stdout",
     "output_type": "stream",
     "text": [
      "28712\n",
      "28248\n"
     ]
    },
    {
     "data": {
      "text/plain": [
       "28480.0"
      ]
     },
     "execution_count": 9,
     "metadata": {},
     "output_type": "execute_result"
    }
   ],
   "source": [
    "# left end point\n",
    "l1 = 3285*2\n",
    "l2 = 3553*2\n",
    "l3 = 3725*2\n",
    "l4 = 3793*2\n",
    "left = l1 + l2 + l3 + l4\n",
    "print(left)\n",
    "\n",
    "# right end point\n",
    "r1 = 3553*2\n",
    "r2 = 3725*2\n",
    "r3 = 3793*2\n",
    "r4 = 3053*2\n",
    "right = r1 + r2 + r3 + r4\n",
    "print(right)\n",
    "\n",
    "# Average End Points\n",
    "(left+right)/2"
   ]
  },
  {
   "cell_type": "markdown",
   "metadata": {},
   "source": [
    "Using Trapezoid formula:"
   ]
  },
  {
   "cell_type": "code",
   "execution_count": 14,
   "metadata": {},
   "outputs": [],
   "source": [
    "def trapezoid_area(a,b,h):\n",
    "    return ((a+b)/2)*h\n",
    "\n",
    "area1 = trapezoid_area(3285,3553,2)\n",
    "print(area1)\n",
    "area2 = trapezoid_area(3553,3725,2)\n",
    "print(area2)\n",
    "area3 = trapezoid_area(3725,3793,2)\n",
    "print(area3)\n",
    "area4 = trapezoid_area(3793,3053,2)\n",
    "print(area4)\n",
    "print(area1 + area2 + area3 + area4)"
   ]
  },
  {
   "cell_type": "markdown",
   "metadata": {},
   "source": [
    "### Homework Problem 6:"
   ]
  },
  {
   "cell_type": "code",
   "execution_count": 35,
   "metadata": {},
   "outputs": [],
   "source": [
    "def derivative_of_fn(x):\n",
    "    return (7*x+7) * (x**2 + 2*x + 2)**(1/3)"
   ]
  },
  {
   "cell_type": "code",
   "execution_count": 69,
   "metadata": {},
   "outputs": [
    {
     "name": "stdout",
     "output_type": "stream",
     "text": [
      "8.819447349264113\n",
      "23.939663253473757\n",
      "45.24312849066956\n",
      "71.99588453843059\n",
      "103.68736239425796\n",
      "149.99812363183804\n"
     ]
    }
   ],
   "source": [
    "# cannot use this method -- why??? why is this section off?\n",
    "t0 = derivative_of_fn(0)\n",
    "print(t0)\n",
    "t1 = derivative_of_fn(1)\n",
    "print(t1)\n",
    "t2 = derivative_of_fn(2)\n",
    "print(t2)\n",
    "t3 = derivative_of_fn(3)\n",
    "print(t3)\n",
    "t4 = derivative_of_fn(4)\n",
    "print(t4)\n",
    "area1 = t0 + t1 + t2 + t3\n",
    "print(area1)"
   ]
  },
  {
   "cell_type": "code",
   "execution_count": 65,
   "metadata": {},
   "outputs": [],
   "source": [
    "def function(x):\n",
    "    return (21*(x**2+2*x+2)**(4./3.))/8"
   ]
  },
  {
   "cell_type": "code",
   "execution_count": 66,
   "metadata": {},
   "outputs": [
    {
     "data": {
      "text/plain": [
       "108128.85547117566"
      ]
     },
     "execution_count": 66,
     "metadata": {},
     "output_type": "execute_result"
    }
   ],
   "source": [
    "# profit after 3 years operations\n",
    "(function(3)-function(0)) * 1000"
   ]
  },
  {
   "cell_type": "code",
   "execution_count": 68,
   "metadata": {},
   "outputs": [
    {
     "data": {
      "text/plain": [
       "87446.91568567921"
      ]
     },
     "execution_count": 68,
     "metadata": {},
     "output_type": "execute_result"
    }
   ],
   "source": [
    "# fourth year's profits\n",
    "((function(4)-function(0)) * 1000) - ((function(3)-function(0)) * 1000)"
   ]
  },
  {
   "cell_type": "markdown",
   "metadata": {},
   "source": [
    "### Homework Problem 7:"
   ]
  },
  {
   "cell_type": "code",
   "execution_count": 73,
   "metadata": {},
   "outputs": [
    {
     "data": {
      "text/latex": [
       "$\\displaystyle 112 x^{2.5}$"
      ],
      "text/plain": [
       "112*x**2.5"
      ]
     },
     "execution_count": 73,
     "metadata": {},
     "output_type": "execute_result"
    }
   ],
   "source": [
    "derivative = 112*x**(5/2)\n",
    "derivative"
   ]
  },
  {
   "cell_type": "code",
   "execution_count": 75,
   "metadata": {},
   "outputs": [],
   "source": [
    "def function(x):\n",
    "    return (32*x**(7/2))"
   ]
  },
  {
   "cell_type": "code",
   "execution_count": 77,
   "metadata": {
    "scrolled": true
   },
   "outputs": [
    {
     "data": {
      "text/plain": [
       "362.03867196751236"
      ]
     },
     "execution_count": 77,
     "metadata": {},
     "output_type": "execute_result"
    }
   ],
   "source": [
    "function(2)-function(0)"
   ]
  },
  {
   "cell_type": "markdown",
   "metadata": {},
   "source": [
    "### Homework Problem 8:"
   ]
  },
  {
   "cell_type": "code",
   "execution_count": 84,
   "metadata": {},
   "outputs": [
    {
     "data": {
      "text/latex": [
       "$\\displaystyle \\frac{4}{\\left(x + 1\\right)^{0.5}} + \\frac{2}{x + 1}$"
      ],
      "text/plain": [
       "4*(x + 1)**(-0.5) + 2/(x + 1)"
      ]
     },
     "execution_count": 84,
     "metadata": {},
     "output_type": "execute_result"
    }
   ],
   "source": [
    "derivative = 2/(x+1)+4/(x+1)**(1/2)\n",
    "derivative"
   ]
  },
  {
   "cell_type": "code",
   "execution_count": 82,
   "metadata": {},
   "outputs": [],
   "source": [
    "def function(x):\n",
    "    return 2*np.log(x+1)+8*(x+1)**(1/2)"
   ]
  },
  {
   "cell_type": "code",
   "execution_count": 83,
   "metadata": {
    "scrolled": true
   },
   "outputs": [
    {
     "data": {
      "text/plain": [
       "22.51137089331739"
      ]
     },
     "execution_count": 83,
     "metadata": {},
     "output_type": "execute_result"
    }
   ],
   "source": [
    "function(13) - function(1)"
   ]
  },
  {
   "cell_type": "code",
   "execution_count": 85,
   "metadata": {},
   "outputs": [
    {
     "data": {
      "text/plain": [
       "11.226377896314354"
      ]
     },
     "execution_count": 85,
     "metadata": {},
     "output_type": "execute_result"
    }
   ],
   "source": [
    "function(24) - function(13)"
   ]
  },
  {
   "cell_type": "markdown",
   "metadata": {},
   "source": [
    "### Homework Problem 9:"
   ]
  },
  {
   "attachments": {
    "Module%208%20-%20HW%20Q%209.PNG": {
     "image/png": "[encoded data removed]"
    }
   },
   "cell_type": "markdown",
   "metadata": {},
   "source": [
    "![Module%208%20-%20HW%20Q%209.PNG](attachment:Module%208%20-%20HW%20Q%209.PNG)"
   ]
  },
  {
   "cell_type": "markdown",
   "metadata": {},
   "source": [
    "Probability Density Function:"
   ]
  },
  {
   "cell_type": "code",
   "execution_count": 89,
   "metadata": {},
   "outputs": [
    {
     "data": {
      "text/plain": [
       "0.1"
      ]
     },
     "execution_count": 89,
     "metadata": {},
     "output_type": "execute_result"
    }
   ],
   "source": [
    "c = 1/(120-110)\n",
    "c"
   ]
  },
  {
   "cell_type": "code",
   "execution_count": 90,
   "metadata": {},
   "outputs": [
    {
     "data": {
      "text/plain": [
       "0.8"
      ]
     },
     "execution_count": 90,
     "metadata": {},
     "output_type": "execute_result"
    }
   ],
   "source": [
    "# prob x >= 112\n",
    "c*8"
   ]
  },
  {
   "cell_type": "markdown",
   "metadata": {},
   "source": [
    "### Homework Problem 10:"
   ]
  },
  {
   "cell_type": "code",
   "execution_count": 118,
   "metadata": {},
   "outputs": [],
   "source": [
    "def probability_density(x):\n",
    "    return 1/(2*x**(1/2))"
   ]
  },
  {
   "cell_type": "code",
   "execution_count": 108,
   "metadata": {},
   "outputs": [],
   "source": [
    "lb = 2.25\n",
    "ub = 6.25\n",
    "num_outcomes = ub - lb"
   ]
  },
  {
   "cell_type": "code",
   "execution_count": 119,
   "metadata": {},
   "outputs": [],
   "source": [
    "def integral(x):\n",
    "    return x**(1/2)"
   ]
  },
  {
   "cell_type": "code",
   "execution_count": 123,
   "metadata": {},
   "outputs": [
    {
     "data": {
      "text/plain": [
       "0.9188611699158102"
      ]
     },
     "execution_count": 123,
     "metadata": {},
     "output_type": "execute_result"
    }
   ],
   "source": [
    "# prob >= 2.5\n",
    "integral(ub)-integral(2.5)"
   ]
  },
  {
   "cell_type": "code",
   "execution_count": 125,
   "metadata": {},
   "outputs": [
    {
     "data": {
      "text/plain": [
       "0.04919333848296681"
      ]
     },
     "execution_count": 125,
     "metadata": {},
     "output_type": "execute_result"
    }
   ],
   "source": [
    "# prob <= 2.5\n",
    "integral(2.4)-integral(2.25)"
   ]
  },
  {
   "cell_type": "code",
   "execution_count": 124,
   "metadata": {},
   "outputs": [
    {
     "data": {
      "text/plain": [
       "0.03194549160122295"
      ]
     },
     "execution_count": 124,
     "metadata": {},
     "output_type": "execute_result"
    }
   ],
   "source": [
    "# prob 2.4 <= x <= 2.5\n",
    "integral(2.5)-integral(2.4)"
   ]
  },
  {
   "cell_type": "markdown",
   "metadata": {},
   "source": [
    "### Homework Problem 11:"
   ]
  },
  {
   "cell_type": "code",
   "execution_count": 13,
   "metadata": {},
   "outputs": [],
   "source": [
    "def function(x):\n",
    "    return -math.e**(-(x)/3650.1)"
   ]
  },
  {
   "cell_type": "code",
   "execution_count": 19,
   "metadata": {},
   "outputs": [
    {
     "name": "stdout",
     "output_type": "stream",
     "text": [
      "1095\n",
      "2920\n"
     ]
    }
   ],
   "source": [
    "year3 = 365*3\n",
    "print(year3)\n",
    "year8 = 365*8\n",
    "print(year8)"
   ]
  },
  {
   "cell_type": "code",
   "execution_count": 20,
   "metadata": {},
   "outputs": [
    {
     "data": {
      "text/plain": [
       "0.29148549719541"
      ]
     },
     "execution_count": 20,
     "metadata": {},
     "output_type": "execute_result"
    }
   ],
   "source": [
    "function(year8) - function(year3)"
   ]
  },
  {
   "cell_type": "code",
   "execution_count": 22,
   "metadata": {},
   "outputs": [
    {
     "data": {
      "text/plain": [
       "0.16530703992524598"
      ]
     },
     "execution_count": 22,
     "metadata": {},
     "output_type": "execute_result"
    }
   ],
   "source": [
    "# more than 6570- days\n",
    "1 - (function(6570) - function(0))"
   ]
  },
  {
   "cell_type": "markdown",
   "metadata": {},
   "source": [
    "### Homework Problem 11:"
   ]
  },
  {
   "cell_type": "code",
   "execution_count": 39,
   "metadata": {},
   "outputs": [],
   "source": [
    "def function(x):\n",
    "    return abs(x)/np.log(17)"
   ]
  },
  {
   "cell_type": "code",
   "execution_count": 63,
   "metadata": {},
   "outputs": [
    {
     "data": {
      "text/plain": [
       "5.647297981836179"
      ]
     },
     "execution_count": 63,
     "metadata": {},
     "output_type": "execute_result"
    }
   ],
   "source": [
    "mean = function(17)-function(1)\n",
    "mean"
   ]
  },
  {
   "cell_type": "code",
   "execution_count": 44,
   "metadata": {},
   "outputs": [
    {
     "name": "stdout",
     "output_type": "stream",
     "text": [
      "[0.35295612386476116, 0.7059122477295223, 1.0588683715942835, 1.4118244954590446, 1.7647806193238058, 2.117736743188567, 2.470692867053328, 2.8236489909180893, 3.1766051147828502, 3.5295612386476116, 3.8825173625123726, 4.235473486377134, 4.588429610241895, 4.941385734106656, 5.294341857971418, 5.647297981836179, 6.0002541057009395]\n"
     ]
    },
    {
     "data": {
      "text/plain": [
       "1.7291248101184826"
      ]
     },
     "execution_count": 44,
     "metadata": {},
     "output_type": "execute_result"
    }
   ],
   "source": [
    "# this does not work for some reason...\n",
    "stdev_ls = []\n",
    "\n",
    "for x in range(1,18):\n",
    "    stdev = abs(x)/np.log(17)\n",
    "    stdev=stdev_ls.append(stdev)\n",
    "    \n",
    "print(stdev_ls)\n",
    "\n",
    "stdev = np.std(stdev_ls)\n",
    "stdev"
   ]
  },
  {
   "cell_type": "code",
   "execution_count": 64,
   "metadata": {},
   "outputs": [
    {
     "data": {
      "text/plain": [
       "18.9"
      ]
     },
     "execution_count": 64,
     "metadata": {},
     "output_type": "execute_result"
    }
   ],
   "source": [
    "#standard deviation\n",
    "variance = (17**2 - 1**2)/(2*(np.log(17))) - round(mean,2)**2\n",
    "round(variance,2)"
   ]
  },
  {
   "cell_type": "code",
   "execution_count": 65,
   "metadata": {},
   "outputs": [
    {
     "data": {
      "text/plain": [
       "4.35"
      ]
     },
     "execution_count": 65,
     "metadata": {},
     "output_type": "execute_result"
    }
   ],
   "source": [
    "stdev = math.sqrt(variance)\n",
    "round(stdev,2)"
   ]
  },
  {
   "cell_type": "code",
   "execution_count": 69,
   "metadata": {},
   "outputs": [
    {
     "name": "stdout",
     "output_type": "stream",
     "text": [
      "lb 1.3\n",
      "ub 10.0\n"
     ]
    },
    {
     "data": {
      "text/plain": [
       "0.7201084354648842"
      ]
     },
     "execution_count": 69,
     "metadata": {},
     "output_type": "execute_result"
    }
   ],
   "source": [
    "# probability blood clotting within 1 stdev of mean\n",
    "print('lb', round((mean - stdev),2))\n",
    "print('ub', round((mean + stdev),2))\n",
    "(np.log(10)-np.log(1.3))/np.log(17)"
   ]
  },
  {
   "cell_type": "code",
   "execution_count": 88,
   "metadata": {},
   "outputs": [
    {
     "data": {
      "text/plain": [
       "4.12"
      ]
     },
     "execution_count": 88,
     "metadata": {},
     "output_type": "execute_result"
    }
   ],
   "source": [
    "# median clotting time\n",
    "round(math.e**(np.log(17)/2),2)"
   ]
  },
  {
   "cell_type": "markdown",
   "metadata": {},
   "source": [
    "### Homework Problem 13:"
   ]
  },
  {
   "cell_type": "code",
   "execution_count": 138,
   "metadata": {},
   "outputs": [
    {
     "data": {
      "text/plain": [
       "3.15"
      ]
     },
     "execution_count": 138,
     "metadata": {},
     "output_type": "execute_result"
    }
   ],
   "source": [
    "# mean\n",
    "def function(x):\n",
    "    return (1/45)*(((9.5*(x**2))/2)-((x**3)/3))\n",
    "\n",
    "mean = function(9)\n",
    "mean"
   ]
  },
  {
   "cell_type": "code",
   "execution_count": 141,
   "metadata": {},
   "outputs": [
    {
     "data": {
      "text/plain": [
       "2.22"
      ]
     },
     "execution_count": 141,
     "metadata": {},
     "output_type": "execute_result"
    }
   ],
   "source": [
    "def variance(x):\n",
    "    return round((1/45)*(((9.5*x**3)/3)-(x**4/4)) - 3.15**2,2) \n",
    "\n",
    "stdev = round(math.sqrt(variance(9)),2)\n",
    "stdev"
   ]
  },
  {
   "cell_type": "code",
   "execution_count": 149,
   "metadata": {},
   "outputs": [
    {
     "data": {
      "text/plain": [
       "0.93"
      ]
     },
     "execution_count": 149,
     "metadata": {},
     "output_type": "execute_result"
    }
   ],
   "source": [
    "# probability blood clotting within 1 stdev of mean\n",
    "lb = round((mean - stdev),2)\n",
    "lb"
   ]
  },
  {
   "cell_type": "code",
   "execution_count": 150,
   "metadata": {},
   "outputs": [
    {
     "data": {
      "text/plain": [
       "0.19"
      ]
     },
     "execution_count": 150,
     "metadata": {},
     "output_type": "execute_result"
    }
   ],
   "source": [
    "# probability blood clotting within 1 stdev of mean\n",
    "round((1/45)*(9.5*lb-(lb**2/2)),2)"
   ]
  },
  {
   "cell_type": "markdown",
   "metadata": {},
   "source": [
    "### Homework Problem 15:"
   ]
  },
  {
   "cell_type": "code",
   "execution_count": 151,
   "metadata": {},
   "outputs": [],
   "source": [
    "a = 0.227"
   ]
  },
  {
   "cell_type": "code",
   "execution_count": 153,
   "metadata": {},
   "outputs": [],
   "source": [
    "# mean exponentially distributed variable"
   ]
  },
  {
   "cell_type": "code",
   "execution_count": 156,
   "metadata": {},
   "outputs": [
    {
     "data": {
      "text/plain": [
       "4.41"
      ]
     },
     "execution_count": 156,
     "metadata": {},
     "output_type": "execute_result"
    }
   ],
   "source": [
    "mean = round(1 / a,2)\n",
    "mean"
   ]
  },
  {
   "cell_type": "code",
   "execution_count": 163,
   "metadata": {},
   "outputs": [
    {
     "data": {
      "text/plain": [
       "0.7969"
      ]
     },
     "execution_count": 163,
     "metadata": {},
     "output_type": "execute_result"
    }
   ],
   "source": [
    "# prob density of exponentially randomly distributed variable\n",
    "round(-(-math.e**(-0.227*1)),4)"
   ]
  }
 ],
 "metadata": {
  "kernelspec": {
   "display_name": "Python 3",
   "language": "python",
   "name": "python3"
  },
  "language_info": {
   "codemirror_mode": {
    "name": "ipython",
    "version": 3
   },
   "file_extension": ".py",
   "mimetype": "text/x-python",
   "name": "python",
   "nbconvert_exporter": "python",
   "pygments_lexer": "ipython3",
   "version": "3.7.4"
  }
 },
 "nbformat": 4,
 "nbformat_minor": 2
}
