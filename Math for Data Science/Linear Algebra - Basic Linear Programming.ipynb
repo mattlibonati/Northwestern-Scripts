{
 "cells": [
  {
   "cell_type": "code",
   "execution_count": 2,
   "metadata": {},
   "outputs": [],
   "source": [
    "import matplotlib.pyplot \n",
    "from matplotlib.pyplot import *\n",
    "import numpy as np\n",
    "from numpy import arange\n",
    "from scipy.optimize import linprog\n",
    "import math\n",
    "\n",
    "import pulp\n",
    "\n",
    "from sympy import *"
   ]
  },
  {
   "cell_type": "markdown",
   "metadata": {},
   "source": [
    "# Matrix Math"
   ]
  },
  {
   "cell_type": "markdown",
   "metadata": {},
   "source": [
    "Willie W’s Candy makes three types of artisanal chocolate bars: cherry, almond, and raisin. Matrix A gives the amount of ingredients in one batch. Matrix B gives the costs of ingredients from suppliers J and K. Calculate the cost of 100 batches of each candy using ingredients from supplier K."
   ]
  },
  {
   "cell_type": "code",
   "execution_count": 3,
   "metadata": {},
   "outputs": [
    {
     "name": "stdout",
     "output_type": "stream",
     "text": [
      "Cost per batch by cholocate bar:\n",
      " [[60]\n",
      " [40]\n",
      " [52]]\n",
      "\n",
      "Cost of 100 cherry bars = [[6000]]\n",
      "Cost of 100 almond bars = [[4000]]\n",
      "Cost of 100 raisin bars = [[5200]]\n",
      "\n",
      "Total cost for 100 batches from supplier K = 15200\n"
     ]
    }
   ],
   "source": [
    "# ingrediant matrix: sugar, choc, milk\n",
    "A = np.array([[6,8,1],  # cherry\n",
    "              [6,4,1],  # almond\n",
    "              [5,7,1]]) # raisin\n",
    " \n",
    "#  Supplier J is ommitted from the cost matrix\n",
    "B = np.matrix([[3],  # sugar\n",
    "               [5],  # choc\n",
    "               [2]]) # milk\n",
    "\n",
    "\n",
    "n = 100 # number of batches \n",
    "\n",
    "print('Cost per batch by cholocate bar:\\n', A*B)\n",
    "print('\\nCost of',n,'cherry bars =',(A*B*n)[0])\n",
    "print('Cost of',n,'almond bars =',(A*B*n)[1])\n",
    "print('Cost of',n,'raisin bars =',(A*B*n)[2])\n",
    "print('\\nTotal cost for',n,'batches from supplier K =', np.sum(A*B*n))"
   ]
  },
  {
   "cell_type": "markdown",
   "metadata": {},
   "source": [
    "# Determining independent variables values given dependent outcomes "
   ]
  },
  {
   "cell_type": "markdown",
   "metadata": {},
   "source": [
    "Question 1"
   ]
  },
  {
   "cell_type": "markdown",
   "metadata": {},
   "source": [
    "Welsh-Ryan Arena seats 15,000 people. Courtside seats cost 8 dollars, first level seats cost 6 dollars, and upper deck seats cost 4 dollars. The total revenue for a sellout is 76,000 dollars. If half the courtside seats, half the upper deck seats, and all the first level seats are sold, then the total revenue is 44,000 dollars. How many of each type of seat are there? "
   ]
  },
  {
   "cell_type": "code",
   "execution_count": 4,
   "metadata": {},
   "outputs": [
    {
     "data": {
      "text/plain": [
       "array([ 3000.,  2000., 10000.])"
      ]
     },
     "execution_count": 4,
     "metadata": {},
     "output_type": "execute_result"
    }
   ],
   "source": [
    "# declare lists \n",
    "total_seats      = [1,1,1]\n",
    "sell_out_revenue = [8,6,4]\n",
    "# scenario_revenue represents the second scenario stated.# couryard seat costs and upper deck seat costs are divided by 2\n",
    "# to respresent \"half\" of their seats being sold.\n",
    "scenario_revenue = [4,6,2]\n",
    "\n",
    "# use np.matrix(fn) and np.linalg(fn) to create matrix and solve for constants \n",
    "coefficients = np.matrix([total_seats,\n",
    "                          sell_out_revenue,\n",
    "                          scenario_revenue])\n",
    "constants = np.array([15000,76000,44000])\n",
    "intersection = np.linalg.solve(coefficients,constants)\n",
    "\n",
    "intersection"
   ]
  },
  {
   "cell_type": "markdown",
   "metadata": {},
   "source": [
    "Question 2"
   ]
  },
  {
   "cell_type": "markdown",
   "metadata": {},
   "source": [
    "Vanessa invests a total of 17,500 dollars in three products. She invests one part in a mutual fund which has an annual return of 11 percent. She invests the second part in government bonds at 7 percent per year. The third part she puts in CDs at 5 percent per year. She invests twice as much in the mutual fund as in the CDs. In the first year Vanessa’s investments bring a total return of 1,495 dollars. How much did she invest in each product?"
   ]
  },
  {
   "cell_type": "code",
   "execution_count": 20,
   "metadata": {},
   "outputs": [
    {
     "data": {
      "text/plain": [
       "array([9000., 4000., 4500.])"
      ]
     },
     "execution_count": 20,
     "metadata": {},
     "output_type": "execute_result"
    }
   ],
   "source": [
    "total_investment = [1,1,1]\n",
    "total_return     = [0.11,0.07,0.05]\n",
    "mf_cd_difr       = [-1,0,2]\n",
    "\n",
    "# use np.matrix(fn) and np.linalg(fn) to create matrix and solve for constants \n",
    "coefficients = np.matrix([total_investment,\n",
    "                          total_return,\n",
    "                          mf_cd_difr])\n",
    "constants = np.array([17500,1495,0])\n",
    "intersection = np.linalg.solve(coefficients,constants)\n",
    "\n",
    "intersection"
   ]
  },
  {
   "cell_type": "markdown",
   "metadata": {},
   "source": [
    "# Maximization "
   ]
  },
  {
   "cell_type": "markdown",
   "metadata": {},
   "source": [
    "Due to new environmental restrictions, Hoch Industries must use a new process to reduce pollution. The old process emits 6 g of Sulphur and 3 g of lead per liter of chemical made. The new process emits 2 g of Sulphur and 4 g of lead per liter of chemical made. The company makes a profit of 25¢ per liter under the old process and 16¢ per liter under the new process. No more than 18,000 g of Sulphur and no more than 12,000 g of lead can be emitted daily. How many liters of chemicals should be made daily under each process to maximize profits?  What is the maximum profit?"
   ]
  },
  {
   "cell_type": "code",
   "execution_count": 5,
   "metadata": {},
   "outputs": [
    {
     "name": "stdout",
     "output_type": "stream",
     "text": [
      "Intersection of maximum profit \n",
      "Liters from old process: 2666.67 \n",
      "Liters from new process: 1000.0 \n",
      "Total profit at intersection: 826.67\n"
     ]
    }
   ],
   "source": [
    "# declare lists: old, new  \n",
    "profitability  = [0.25,0.16]\n",
    "sulfur         = [6,2]\n",
    "lead           = [3,4]\n",
    "\n",
    "# use np.matrix(fn) and np.linalg(fn) to create matrix and solve for constants \n",
    "coefficients = np.matrix([sulfur,\n",
    "                          lead])\n",
    "constants = np.array([18000,12000])\n",
    "intersection = np.linalg.solve(coefficients,constants)\n",
    "\n",
    "profit     = intersection[0]*profitability[0]+intersection[1]*profitability[1]\n",
    "\n",
    "print('Intersection of maximum profit \\nLiters from old process:','{:.2f}'.format(intersection[0]),'\\nLiters from new process:',\n",
    "       intersection[1],'\\nTotal profit at intersection:', '{:.2f}'.format(profit))"
   ]
  },
  {
   "cell_type": "markdown",
   "metadata": {},
   "source": [
    "# Linear algrebra system of equations with non-squared matrices \n",
    "### Linear Programming Snp.linalg.solv - solve for x, y, z\n",
    "An airline with two types of airplanes, Upper P1 and Upper P2, has contracted with a tour group to provide transportation for a minimum of 400 first class,  750 tourist class, and 1500 economy class passengers. For a certain trip, airplane Upper P 1 costs 10000 to operate and can accommodate 20 first class, 50 tourist class, and 110 economy class passengers. Airplane Upper P 2 costs 8500 to operate and can accommodate 18 first class, 30 tourist class comma and 44 economy class passengers. How many of each type of airplane should be used in order to minimize the operating cost? "
   ]
  },
  {
   "cell_type": "code",
   "execution_count": 21,
   "metadata": {},
   "outputs": [
    {
     "data": {
      "text/latex": [
       "$\\displaystyle 10000 x + 8500 y$"
      ],
      "text/plain": [
       "10000*x + 8500*y"
      ]
     },
     "execution_count": 21,
     "metadata": {},
     "output_type": "execute_result"
    }
   ],
   "source": [
    "x = Symbol('x')\n",
    "y = Symbol('y')\n",
    "\n",
    "w = 10000*x + 8500*y                 # objective function to minimize\n",
    "w_fn = lambdify(['x','y'],w,'numpy') # create a usable function from input\n",
    "w"
   ]
  },
  {
   "cell_type": "code",
   "execution_count": 22,
   "metadata": {
    "scrolled": true
   },
   "outputs": [],
   "source": [
    "# specify coefficients and constants\n",
    "coefficients = np.array([[20,18],\n",
    "                         [50,30],\n",
    "                         [110,44]])\n",
    "constants    = np.array([400,750,1500])\n",
    "\n",
    "# because the matrix is not squared, each corner is evaluated separately \n",
    "intersection1 = np.linalg.solve(coefficients[0:2],constants[0:2])\n",
    "intersection2 = np.linalg.solve([coefficients[0],coefficients[2]],[constants[0],constants[2]])\n",
    "intersection3 = np.linalg.solve(coefficients[1:3],constants[1:3])"
   ]
  },
  {
   "cell_type": "code",
   "execution_count": 23,
   "metadata": {},
   "outputs": [
    {
     "data": {
      "text/plain": [
       "[[4, 16],\n",
       " [4, 17],\n",
       " [5, 16],\n",
       " [5, 17],\n",
       " [8, 12],\n",
       " [8, 13],\n",
       " [9, 12],\n",
       " [9, 13],\n",
       " [10, 6],\n",
       " [10, 7],\n",
       " [11, 6],\n",
       " [11, 7]]"
      ]
     },
     "execution_count": 23,
     "metadata": {},
     "output_type": "execute_result"
    }
   ],
   "source": [
    "# here we are creating each possible value - rounded up or down to each which are absolute max and mins\n",
    "\n",
    "corner_points_t = []\n",
    "\n",
    "for i in range(len(constants)):\n",
    "    \n",
    "    ls = [intersection1,intersection2,intersection3]\n",
    "    \n",
    "    for i in enumerate(ls[i]):\n",
    "        if i[0] ==0:\n",
    "            floor_x = math.floor(i[1])\n",
    "            ceil_x  = math.ceil(i[1])\n",
    "        else: \n",
    "            floor_y = math.floor(i[1])\n",
    "            ceil_y  = math.ceil(i[1])\n",
    "    \n",
    "    #append all four combinations to list\n",
    "    corner_points_t.append([floor_x,floor_y])\n",
    "    corner_points_t.append([floor_x,ceil_y])\n",
    "    corner_points_t.append([ceil_x,floor_y])\n",
    "    corner_points_t.append([ceil_x,ceil_y])\n",
    "    \n",
    "corner_points_t"
   ]
  },
  {
   "cell_type": "code",
   "execution_count": 24,
   "metadata": {},
   "outputs": [],
   "source": [
    "# create x and y lists from rounded figures\n",
    "x = []\n",
    "y = []\n",
    "\n",
    "for i in enumerate(corner_points_t):\n",
    "    x_t = i[1][0]\n",
    "    y_t = i[1][1]\n",
    "    \n",
    "    x.append(x_t)\n",
    "    y.append(y_t)"
   ]
  },
  {
   "cell_type": "code",
   "execution_count": 25,
   "metadata": {},
   "outputs": [
    {
     "data": {
      "text/plain": [
       "array([[176000],\n",
       "       [184500],\n",
       "       [186000],\n",
       "       [194500],\n",
       "       [182000],\n",
       "       [190500],\n",
       "       [192000],\n",
       "       [200500],\n",
       "       [151000],\n",
       "       [159500],\n",
       "       [161000],\n",
       "       [169500]])"
      ]
     },
     "execution_count": 25,
     "metadata": {},
     "output_type": "execute_result"
    }
   ],
   "source": [
    "# reshape for lambified equation input\n",
    "x = np.array(x).reshape(len(x),1)\n",
    "y = np.array(y).reshape(len(y),1)\n",
    "\n",
    "# pump reshaped arrays through lambified equation\n",
    "linear_output = w_fn(x,y)\n",
    "linear_output"
   ]
  },
  {
   "cell_type": "code",
   "execution_count": 26,
   "metadata": {},
   "outputs": [],
   "source": [
    "# detetmine minimum & maximum values from corner points\n",
    "min_index = np.where(np.in1d(linear_output,min(linear_output)))[0][0]\n",
    "max_index = np.where(np.in1d(linear_output,max(linear_output)))[0][0]"
   ]
  },
  {
   "cell_type": "code",
   "execution_count": 27,
   "metadata": {},
   "outputs": [],
   "source": [
    "# apply index to corner points to identify min and max x/y \n",
    "minimize = corner_points_t[min_index]\n",
    "maximize = corner_points_t[max_index]"
   ]
  },
  {
   "cell_type": "code",
   "execution_count": 28,
   "metadata": {},
   "outputs": [
    {
     "name": "stdout",
     "output_type": "stream",
     "text": [
      "Minimization occurs at: \n",
      "x = 10 y = 6 w = 151000\n",
      "Maximization occurs at: \n",
      "x = 9 y = 13 z = 200500\n"
     ]
    }
   ],
   "source": [
    "# print out mins and maxes\n",
    "print('Minimization occurs at:','\\nx =',round(minimize[0],1),'y =',round(minimize[1],1),'w =',int(min(linear_output)))\n",
    "print('Maximization occurs at:','\\nx =',round(maximize[0],1),'y =',round(maximize[1],1),'z =',int(max(linear_output)))"
   ]
  },
  {
   "cell_type": "code",
   "execution_count": 29,
   "metadata": {},
   "outputs": [
    {
     "data": {
      "text/plain": [
       "array([[     4,     16, 176000],\n",
       "       [     4,     17, 184500],\n",
       "       [     5,     16, 186000],\n",
       "       [     5,     17, 194500],\n",
       "       [     8,     12, 182000],\n",
       "       [     8,     13, 190500],\n",
       "       [     9,     12, 192000],\n",
       "       [     9,     13, 200500],\n",
       "       [    10,      6, 151000],\n",
       "       [    10,      7, 159500],\n",
       "       [    11,      6, 161000],\n",
       "       [    11,      7, 169500]])"
      ]
     },
     "execution_count": 29,
     "metadata": {},
     "output_type": "execute_result"
    }
   ],
   "source": [
    "# print all rounded possibilities\n",
    "stack = np.hstack((corner_points_t,linear_output.reshape(len(x),1)))\n",
    "stack"
   ]
  },
  {
   "cell_type": "code",
   "execution_count": 30,
   "metadata": {},
   "outputs": [],
   "source": [
    "# minimization --> change the >= to <= for maximization\n",
    "validation = []\n",
    "\n",
    "for i in stack:\n",
    "    x_y  = np.array([i[0],i[1]])  # obtain x & y from array\n",
    "    const = x_y * coefficients    # multiply x & y values by coefficients \n",
    "    \n",
    "    test_array = np.hstack((const,constants.reshape(len(constants),1)))\n",
    "    \n",
    "    if test_array[0][0]+test_array[0][1] >= test_array[0][2]:\n",
    "        test1 = True\n",
    "    else:\n",
    "        test1 = False\n",
    "    if test_array[1][0]+test_array[1][1] >= test_array[1][2]:\n",
    "        test2 = True\n",
    "    else:\n",
    "        test2 = False\n",
    "    if test_array[2][0]+test_array[2][1] >= test_array[2][2]:\n",
    "        test3 = True\n",
    "    else:\n",
    "        test3 = False\n",
    "        \n",
    "    if test1 == True and test2 == True and test3 == True:\n",
    "        validation.append(i)\n",
    "    else:\n",
    "        pass"
   ]
  },
  {
   "cell_type": "code",
   "execution_count": 31,
   "metadata": {},
   "outputs": [
    {
     "data": {
      "text/plain": [
       "[array([     9,     13, 200500])]"
      ]
     },
     "execution_count": 31,
     "metadata": {},
     "output_type": "execute_result"
    }
   ],
   "source": [
    "validation"
   ]
  },
  {
   "cell_type": "markdown",
   "metadata": {},
   "source": [
    "### Optimization using scipy.optimize import linprog"
   ]
  },
  {
   "cell_type": "markdown",
   "metadata": {},
   "source": [
    "#### Question 1\n",
    "If 30 lb of rice and 20 lb of potatoes cost 21.20, and 20 lb of rice and 12 lb of potatoes \n",
    "cost 13.52, how much will 10 lb of rice and 50 lb of potatoes cost?"
   ]
  },
  {
   "cell_type": "code",
   "execution_count": 3,
   "metadata": {},
   "outputs": [
    {
     "name": "stdout",
     "output_type": "stream",
     "text": [
      "The variables are: [0.4  0.46].\n",
      "The total cost is: 26.999999999999986.\n"
     ]
    }
   ],
   "source": [
    "coefficients = np.array([[30,20],[20,12]])\n",
    "constants = np.array([21.2,13.52])\n",
    "variables = np.linalg.solve(coefficients,constants)\n",
    "\n",
    "print(f'The variables are: {variables}.')\n",
    "\n",
    "solution = 10*variables[0] + 50*variables[1]\n",
    "\n",
    "print(f'The total cost is: {solution}.')"
   ]
  },
  {
   "cell_type": "markdown",
   "metadata": {},
   "source": [
    "#### Question 2"
   ]
  },
  {
   "cell_type": "markdown",
   "metadata": {},
   "source": [
    "A person has 42,000 invested in stock A and stock B. Stock A currently sells \n",
    "for 20 a share and stock B sells for 80 a share. If stock B triples in value \n",
    "and stock A goes up 50_percent, his stock will be worth 111000. How many shares of \n",
    "each stock does he own?"
   ]
  },
  {
   "cell_type": "code",
   "execution_count": null,
   "metadata": {},
   "outputs": [],
   "source": [
    "coefficients = np.array([[20,80],[30,240]])\n",
    "constants = np.array([42000,111000])\n",
    "variables = np.linalg.solve(coefficients,constants)\n",
    "\n",
    "print(f'The variables are: {variables}.')"
   ]
  },
  {
   "cell_type": "code",
   "execution_count": 32,
   "metadata": {},
   "outputs": [
    {
     "name": "stdout",
     "output_type": "stream",
     "text": [
      "Status: Optimization terminated successfully. \n",
      "\n",
      "Maximum: 112.35955056172406 \n",
      "Optimial x1: 0.0 \n",
      "Optimial x2: 112.0 \n",
      "Optimial x3: 0.0\n"
     ]
    }
   ],
   "source": [
    "# Maximization Function\n",
    "z = [-1,-1,-1]\n",
    "# Coefficients\n",
    "a = [[120,130,150],\n",
    "     [160,90,90],\n",
    "     [4.97,4.45,4.65]]\n",
    "# Constants\n",
    "b = [31200,30000,500]\n",
    "\n",
    "method = 'simplex'\n",
    "\n",
    "res = linprog(z, A_ub=a, b_ub=b,bounds=(0, None))\n",
    "\n",
    "print(\"Status:\", res.message, '\\n\\nMaximum:',\n",
    "     -1*res.fun,\n",
    "     \"\\nOptimial x1:\", round(res.x[0]),\n",
    "     \"\\nOptimial x2:\", round(res.x[1]),\n",
    "     \"\\nOptimial x3:\", round(res.x[2]))"
   ]
  },
  {
   "cell_type": "markdown",
   "metadata": {},
   "source": [
    "### Optimization using Pulp"
   ]
  },
  {
   "cell_type": "markdown",
   "metadata": {},
   "source": [
    "#### Minimization"
   ]
  },
  {
   "cell_type": "markdown",
   "metadata": {},
   "source": [
    "To be at his best as an athlete, Jimmy needs at least 10 units of vitamin A, 12 units of vitamin B, and 20 units of vitamin C per day. Pill 1 contains 4 units of A and 3 of B. Pill 2 contains 1 unit of A, 2 of B, and 4 of C. Pill 3 contains 10 units of A, 1 of B, and 5 of C. Pill 1 costs 6 cents, pill 2 costs 8 cents, and pill 3 costs 1 cent. How many of each pill must Jimmy take to minimize his cost, and what is that cost?"
   ]
  },
  {
   "cell_type": "code",
   "execution_count": 7,
   "metadata": {},
   "outputs": [
    {
     "name": "stdout",
     "output_type": "stream",
     "text": [
      "Billy's minimized cost is 12 cents to obtain his minimal nutrition. He will take: \n",
      " Pill 1: 0.0 \n",
      " Pill 2: 0.0 \n",
      " Pill 3: 12.0\n"
     ]
    }
   ],
   "source": [
    "# Pulp\n",
    "x1 = pulp.LpVariable(\"x1\", 0, None) # x1>=0\n",
    "x2 = pulp.LpVariable(\"x2\", 0, None) # x2>=0\n",
    "x3 = pulp.LpVariable(\"x3\", 0, None) # x3>=0\n",
    "\n",
    "# defines the problem\n",
    "prob = pulp.LpProblem(\"problem\", pulp.LpMinimize)\n",
    "\n",
    "# defines the constraints\n",
    "prob += 4*x1 + 1*x2 + 10*x3 >= 10\n",
    "prob += 3*x1 + 2*x2 + 1*x3  >= 12\n",
    "prob += 0*x1 + 4*x2 + 5*x3  >= 20\n",
    "\n",
    "# defines the objective function to maximize\n",
    "prob += 6*x1 + 8*x2 + 1*x3\n",
    "\n",
    "# solve the problem\n",
    "status = prob.solve()\n",
    "pulp.LpStatus[status]\n",
    "\n",
    "# print the results\n",
    "print(\"Billy's minimized cost is 12 cents to obtain his minimal nutrition. He will take:\",\n",
    "       '\\n Pill 1:',pulp.value(x1),\n",
    "       '\\n Pill 2:',pulp.value(x2),\n",
    "       '\\n Pill 3:',pulp.value(x3))"
   ]
  },
  {
   "cell_type": "markdown",
   "metadata": {},
   "source": [
    "#### Maximization"
   ]
  },
  {
   "cell_type": "markdown",
   "metadata": {},
   "source": [
    "Better Buy stocks Blu-ray DVD players, surround sound systems, and Smart TVs. They have limited storage space and can stock a maximum of 210 of these three machines. They know from past experience that they should stock twice as many DVD players as stereo systems and at least 30 TVs. If each DVD player sells for 450, each surround sound system sells for 2000, and each TV sells for 750, how many of each should be stocked and sold for maximum revenues? What is the maximum revenue?"
   ]
  },
  {
   "cell_type": "code",
   "execution_count": 8,
   "metadata": {},
   "outputs": [
    {
     "name": "stdout",
     "output_type": "stream",
     "text": [
      "Better Buy's maximum revenue is 196500.0 \n",
      "Blu-ray DVDs sold: 120.0 \n",
      "Stereo Systems sold: 60.0 \n",
      "Smart TVs sold: 30.0\n"
     ]
    }
   ],
   "source": [
    "# Pulp\n",
    "x1 = pulp.LpVariable(\"x1\", 0, None) # x1>=0\n",
    "x2 = pulp.LpVariable(\"x2\", 0, None) # x2>=0\n",
    "x3 = pulp.LpVariable(\"x3\", 0, None) # x3>=0\n",
    "\n",
    "# defines the problem\n",
    "prob = pulp.LpProblem(\"problem\", pulp.LpMaximize)\n",
    "\n",
    "# defines the constraints\n",
    "prob += 1*x1 + 1*x2 + 1*x3 <= 210\n",
    "prob += 0*x1 + 0*x2 + 1*x3 >= 30\n",
    "prob += 1*x1 - 2*x2 + 0*x3 >= 0\n",
    "\n",
    "# defines the objective function to maximize\n",
    "prob += 450*x1 + 2000*x2 + 750*x3\n",
    "\n",
    "# solve the problem\n",
    "status = prob.solve()\n",
    "pulp.LpStatus[status]\n",
    "\n",
    "z = 450*pulp.value(x1) + 2000*pulp.value(x2) + 750*pulp.value(x3)\n",
    "\n",
    "# print the results\n",
    "print(\"Better Buy's maximum revenue is\",z,  \n",
    "       '\\nBlu-ray DVDs sold:',pulp.value(x1),\n",
    "       '\\nStereo Systems sold:',pulp.value(x2),\n",
    "       '\\nSmart TVs sold:',pulp.value(x3))"
   ]
  }
 ],
 "metadata": {
  "kernelspec": {
   "display_name": "Python 3",
   "language": "python",
   "name": "python3"
  },
  "language_info": {
   "codemirror_mode": {
    "name": "ipython",
    "version": 3
   },
   "file_extension": ".py",
   "mimetype": "text/x-python",
   "name": "python",
   "nbconvert_exporter": "python",
   "pygments_lexer": "ipython3",
   "version": "3.7.4"
  }
 },
 "nbformat": 4,
 "nbformat_minor": 2
}
