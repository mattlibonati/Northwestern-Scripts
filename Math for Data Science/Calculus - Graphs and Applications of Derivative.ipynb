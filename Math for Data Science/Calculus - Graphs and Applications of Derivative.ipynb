{
 "cells": [
  {
   "cell_type": "code",
   "execution_count": 1,
   "metadata": {},
   "outputs": [],
   "source": [
    "from sympy import *\n",
    "import numpy as np\n",
    "import matplotlib.pyplot as plt\n",
    "from matplotlib.pyplot import *\n",
    "import pandas as pd"
   ]
  },
  {
   "cell_type": "markdown",
   "metadata": {},
   "source": [
    "# Maximimum"
   ]
  },
  {
   "cell_type": "markdown",
   "metadata": {},
   "source": [
    "The percent of concentration of a certain drug in the bloodstream x hours after the drug is administered is given by:<br> K(x)=(2x)/(x^2+16)."
   ]
  },
  {
   "cell_type": "code",
   "execution_count": 2,
   "metadata": {},
   "outputs": [],
   "source": [
    "x = Symbol('x')  \n",
    "fn = (7*x*E)**(-x/10)\n",
    "function = lambdify(x,fn,'numpy')"
   ]
  },
  {
   "cell_type": "code",
   "execution_count": 3,
   "metadata": {},
   "outputs": [],
   "source": [
    "def derivative(f_x):\n",
    "    derivative = f_x.diff(x)\n",
    "   \n",
    "    print('F(X)=',f_x)\n",
    "    \n",
    "    return derivative"
   ]
  },
  {
   "cell_type": "code",
   "execution_count": 4,
   "metadata": {},
   "outputs": [
    {
     "name": "stdout",
     "output_type": "stream",
     "text": [
      "F(X)= (7*E*x)**(-x/10)\n"
     ]
    },
    {
     "data": {
      "text/latex": [
       "$\\displaystyle \\left(7 e x\\right)^{- \\frac{x}{10}} \\left(- \\frac{\\log{\\left(7 e x \\right)}}{10} - \\frac{1}{10}\\right)$"
      ],
      "text/plain": [
       "(7*E*x)**(-x/10)*(-log(7*E*x)/10 - 1/10)"
      ]
     },
     "execution_count": 4,
     "metadata": {},
     "output_type": "execute_result"
    }
   ],
   "source": [
    "derivative(fn)"
   ]
  },
  {
   "cell_type": "code",
   "execution_count": 5,
   "metadata": {},
   "outputs": [
    {
     "name": "stdout",
     "output_type": "stream",
     "text": [
      "F(X)= (7*E*x)**(-x/10)\n"
     ]
    },
    {
     "data": {
      "text/latex": [
       "$\\displaystyle \\left\\{\\frac{1}{7 e^{2}}\\right\\}$"
      ],
      "text/plain": [
       "{exp(-2)/7}"
      ]
     },
     "execution_count": 5,
     "metadata": {},
     "output_type": "execute_result"
    }
   ],
   "source": [
    "solveset(Eq(derivative(fn), 0), x)"
   ]
  },
  {
   "cell_type": "code",
   "execution_count": 6,
   "metadata": {},
   "outputs": [
    {
     "data": {
      "text/latex": [
       "$\\displaystyle \\frac{1}{7 e^{2}}$"
      ],
      "text/plain": [
       "exp(-2)/7"
      ]
     },
     "execution_count": 6,
     "metadata": {},
     "output_type": "execute_result"
    }
   ],
   "source": [
    "1/(7*E**2)"
   ]
  },
  {
   "cell_type": "code",
   "execution_count": 8,
   "metadata": {},
   "outputs": [
    {
     "ename": "TypeError",
     "evalue": "unsupported operand type(s) for *: 'int' and 'FunctionClass'",
     "output_type": "error",
     "traceback": [
      "\u001b[1;31m---------------------------------------------------------------------------\u001b[0m",
      "\u001b[1;31mTypeError\u001b[0m                                 Traceback (most recent call last)",
      "\u001b[1;32m<ipython-input-8-9a74bdcf868d>\u001b[0m in \u001b[0;36m<module>\u001b[1;34m\u001b[0m\n\u001b[1;32m----> 1\u001b[1;33m \u001b[1;36m7\u001b[0m\u001b[1;33m*\u001b[0m\u001b[0mexp\u001b[0m\u001b[1;33m\u001b[0m\u001b[1;33m\u001b[0m\u001b[0m\n\u001b[0m",
      "\u001b[1;31mTypeError\u001b[0m: unsupported operand type(s) for *: 'int' and 'FunctionClass'"
     ]
    }
   ],
   "source": []
  },
  {
   "cell_type": "code",
   "execution_count": 15,
   "metadata": {},
   "outputs": [],
   "source": [
    "x = Symbol('x')  \n",
    "fn = -x**2 -y**\n",
    "function = lambdify(x,fn,'numpy')"
   ]
  },
  {
   "cell_type": "code",
   "execution_count": 16,
   "metadata": {},
   "outputs": [],
   "source": [
    "def derivative(f_x):\n",
    "    derivative = f_x.diff(x)\n",
    "   \n",
    "    print('F(X)=',f_x)\n",
    "    \n",
    "    return derivative"
   ]
  },
  {
   "cell_type": "markdown",
   "metadata": {},
   "source": [
    "a. Find the time at which the concentration is a maximum."
   ]
  },
  {
   "cell_type": "code",
   "execution_count": 17,
   "metadata": {},
   "outputs": [
    {
     "name": "stdout",
     "output_type": "stream",
     "text": [
      "F(X)= 2*x/(x**2 + 16)\n"
     ]
    },
    {
     "data": {
      "text/latex": [
       "$\\displaystyle - \\frac{4 x^{2}}{\\left(x^{2} + 16\\right)^{2}} + \\frac{2}{x^{2} + 16}$"
      ],
      "text/plain": [
       "-4*x**2/(x**2 + 16)**2 + 2/(x**2 + 16)"
      ]
     },
     "execution_count": 17,
     "metadata": {},
     "output_type": "execute_result"
    }
   ],
   "source": [
    "derivative(fn)"
   ]
  },
  {
   "cell_type": "code",
   "execution_count": 18,
   "metadata": {},
   "outputs": [
    {
     "name": "stdout",
     "output_type": "stream",
     "text": [
      "F(X)= 2*x/(x**2 + 16)\n"
     ]
    },
    {
     "data": {
      "text/latex": [
       "$\\displaystyle \\left\\{-4, 4\\right\\}$"
      ],
      "text/plain": [
       "{-4, 4}"
      ]
     },
     "execution_count": 18,
     "metadata": {},
     "output_type": "execute_result"
    }
   ],
   "source": [
    "solveset(Eq(derivative(fn), 0), x)\n",
    "# x must be greater than 0, .: 4 is the correct answer"
   ]
  },
  {
   "cell_type": "markdown",
   "metadata": {},
   "source": [
    "b. The maximum concentration is "
   ]
  },
  {
   "cell_type": "code",
   "execution_count": 20,
   "metadata": {},
   "outputs": [
    {
     "data": {
      "text/plain": [
       "0.25"
      ]
     },
     "execution_count": 20,
     "metadata": {},
     "output_type": "execute_result"
    }
   ],
   "source": [
    "function(4)\n",
    "# interpreted as 0.25%"
   ]
  },
  {
   "cell_type": "markdown",
   "metadata": {},
   "source": [
    "# Maximizing Revenue"
   ]
  },
  {
   "cell_type": "markdown",
   "metadata": {},
   "source": [
    "A company sells square carpets for ​$5 per square foot. It has a simplified manufacturing process for which all the carpets each week must be the same​ size, and the length must be a multiple of a half foot. It has found that it can sell 200 carpets in a week when the carpets are 2 ft by 2 ​ft, the minimum size. Beyond​ this, for each additional foot of length and​ width, the number sold goes down by 3. What size carpets should the company sell to maximize its​ revenue? What is the maximum weekly​ revenue?"
   ]
  },
  {
   "cell_type": "markdown",
   "metadata": {},
   "source": [
    "Write the equation for the​ revenue, R, the company will earn as function of the​ length, x, of the carpet squares sold."
   ]
  },
  {
   "cell_type": "code",
   "execution_count": 36,
   "metadata": {},
   "outputs": [],
   "source": [
    "x = Symbol('x')\n",
    "p = 5*x**2         # price of sale \n",
    "n = 200 - 3*(x-2)  # total carpets sold\n",
    "r = p*n\n",
    "revenue_function = lambdify(x,r,'numpy')"
   ]
  },
  {
   "cell_type": "code",
   "execution_count": 25,
   "metadata": {},
   "outputs": [
    {
     "data": {
      "text/latex": [
       "$\\displaystyle 5 x^{2} \\left(206 - 3 x\\right)$"
      ],
      "text/plain": [
       "5*x**2*(206 - 3*x)"
      ]
     },
     "execution_count": 25,
     "metadata": {},
     "output_type": "execute_result"
    }
   ],
   "source": [
    "# revenue function\n",
    "r"
   ]
  },
  {
   "cell_type": "code",
   "execution_count": 48,
   "metadata": {},
   "outputs": [
    {
     "name": "stdout",
     "output_type": "stream",
     "text": [
      "{206/3}\n"
     ]
    },
    {
     "data": {
      "text/plain": [
       "68.66666666666667"
      ]
     },
     "execution_count": 48,
     "metadata": {},
     "output_type": "execute_result"
    }
   ],
   "source": [
    "#lower_limit = x >= 2 -->from n function\n",
    "#upper_limit -- where n(x) = 0\n",
    "print(solveset(Eq(n, 0), x))\n",
    "206/3"
   ]
  },
  {
   "cell_type": "code",
   "execution_count": 52,
   "metadata": {},
   "outputs": [
    {
     "name": "stdout",
     "output_type": "stream",
     "text": [
      "Derivative: -15*x**2 + 10*x*(206 - 3*x)\n",
      "Critical Points: {0, 412/9}\n"
     ]
    },
    {
     "data": {
      "text/plain": [
       "45.77777777777778"
      ]
     },
     "execution_count": 52,
     "metadata": {},
     "output_type": "execute_result"
    }
   ],
   "source": [
    "# critical point r'(x)\n",
    "derivative = diff(r,x)\n",
    "print('Derivative:',derivative)\n",
    "critical_points = solveset(Eq(derivative, 0), x)\n",
    "print('Critical Points:',critical_points)\n",
    "412/9"
   ]
  },
  {
   "cell_type": "code",
   "execution_count": 54,
   "metadata": {},
   "outputs": [
    {
     "data": {
      "text/plain": [
       "719440"
      ]
     },
     "execution_count": 54,
     "metadata": {},
     "output_type": "execute_result"
    }
   ],
   "source": [
    "# determine revenue at x = 46\n",
    "revenue_function(46)\n",
    "\n",
    "# interpretted as: Carpet size that maximizes revenue has a length of 46ft \n",
    "# for revenue of $719,440."
   ]
  },
  {
   "cell_type": "markdown",
   "metadata": {},
   "source": [
    "# Other Stuff"
   ]
  },
  {
   "cell_type": "code",
   "execution_count": 14,
   "metadata": {},
   "outputs": [
    {
     "data": {
      "text/plain": [
       "25.751560882000962"
      ]
     },
     "execution_count": 14,
     "metadata": {},
     "output_type": "execute_result"
    }
   ],
   "source": [
    "calc_total(10)"
   ]
  },
  {
   "cell_type": "code",
   "execution_count": 11,
   "metadata": {},
   "outputs": [
    {
     "name": "stdout",
     "output_type": "stream",
     "text": [
      "Marginal cost: -7*t*exp(-t/10)/10 + 7*exp(-t/10).\n",
      "\n",
      "Output:\n",
      "[ 7.          5.70047573  4.58489222  3.63000928  2.81534419  2.12285731\n",
      "  1.53667258  1.04282914  0.62906055  0.28459876  0.         -0.23300976\n",
      " -0.4216719  -0.57231677 -0.6904715  -0.78095556 -0.84796538 -0.89514927\n",
      " -0.92567377 -0.9422823  -0.94734698 -0.9429145  -0.93074653 -0.91235548\n",
      " -0.88903594 -0.86189249 -0.83186408 -0.7997456  -0.76620679 -0.73180883\n",
      " -0.69701896 -0.66222328 -0.62773794 -0.593819   -0.56067094 -0.52845421\n",
      " -0.49729175 -0.46727465 -0.43846713 -0.4109108  -0.38462842 -0.35962706\n",
      " -0.33590092 -0.31343371 -0.29220069 -0.27217042 -0.25330626 -0.23556768\n",
      " -0.21891127 -0.20329172]\n",
      "\n",
      "Output:\n",
      "[ 0.          6.33386193 11.46223054 15.55718263 18.76896129 21.22857309\n",
      " 23.05008872 24.33267989 25.16242199 25.61388856 25.75156088 25.63107344\n",
      " 25.3003138  24.80039317 24.16650247 23.42866682 22.61241002 21.73933936\n",
      " 20.82765992 19.89262636 18.94693965 18.00109495 17.06368639 16.14167384\n",
      " 15.24061615 14.36487476 13.51779124 12.70184191 11.91877227 11.16971367\n",
      " 10.45528436  9.77567692  9.13073369  8.52001167  7.94283825  7.39835894\n",
      "  6.88557806  6.40339336  5.95062531  5.52604182  5.12837889  4.75635784\n",
      "  4.40869959  4.08413626  3.78142069  3.49933391  3.23669111  2.99234617\n",
      "  2.76519501  2.55417799]\n"
     ]
    }
   ],
   "source": [
    "# Specify Range \n",
    "xrange = np.arange(0,50,1)\n",
    "# initialize x\n",
    "t = Symbol('t')\n",
    "# total cost \n",
    "tc = 7*t*E**(-t/10)\n",
    "calc_total = lambdify(x,tc,'numpy')\n",
    "# marginal cost\n",
    "tc_prime = tc.diff(x)\n",
    "print(f'Marginal cost: {tc_prime}.')\n",
    "# create function from marginal cost\n",
    "calc_marginal_cost = lambdify(x,tc_prime,'numpy')\n",
    "# apply function to specified range of x\n",
    "output1 = calc_marginal_cost(xrange)\n",
    "print(f'\\nOutput:\\n{output1}')\n",
    "output2 = calc_total(xrange)\n",
    "print(f'\\nOutput:\\n{output2}')"
   ]
  },
  {
   "cell_type": "code",
   "execution_count": null,
   "metadata": {},
   "outputs": [],
   "source": []
  },
  {
   "cell_type": "code",
   "execution_count": 10,
   "metadata": {},
   "outputs": [
    {
     "name": "stdout",
     "output_type": "stream",
     "text": [
      "Marginal cost: -4*x**2/(x**2 + 16)**2 + 2/(x**2 + 16).\n",
      "\n",
      "Output:\n",
      "[ 0.125       0.10380623  0.06        0.0224      0.         -0.01070791\n",
      " -0.0147929  -0.0156213  -0.015      -0.01381656 -0.01248514 -0.01118866\n",
      " -0.01       -0.00894083 -0.00800997 -0.00719685 -0.00648789 -0.00586939\n",
      " -0.00532872 -0.00485474 -0.00443787 -0.00406993 -0.003744   -0.00345425\n",
      " -0.00319576 -0.00296436 -0.00275652 -0.00256925 -0.0024     -0.00224658\n",
      " -0.00210713 -0.00198003 -0.00186391 -0.00175754 -0.00165989 -0.00157005\n",
      " -0.00148721 -0.00141068 -0.00133984 -0.00127414 -0.00121312 -0.00115633\n",
      " -0.0011034  -0.00105399 -0.00100779 -0.00096455 -0.00092401 -0.00088595\n",
      " -0.00085018 -0.00081652 -0.0007848  -0.00075489 -0.00072664 -0.00069995\n",
      " -0.00067468 -0.00065076 -0.00062808 -0.00060655 -0.00058611 -0.00056669\n",
      " -0.0005482  -0.00053061 -0.00051384 -0.00049785 -0.0004826  -0.00046803\n",
      " -0.00045411 -0.0004408  -0.00042806 -0.00041587 -0.00040419]\n"
     ]
    }
   ],
   "source": [
    "# Specify Range \n",
    "xrange = np.arange(0,71,1)\n",
    "# initialize x\n",
    "x = Symbol('x')\n",
    "# total cost \n",
    "tc = (2*x)/(x**2+16)\n",
    "# marginal cost\n",
    "tc_prime = tc.diff(x)\n",
    "print(f'Marginal cost: {tc_prime}.')\n",
    "# create function from marginal cost\n",
    "calc_marginal_cost = lambdify(x,tc_prime,'numpy')\n",
    "# apply function to specified range of x\n",
    "output = calc_marginal_cost(xrange)\n",
    "print(f'\\nOutput:\\n{output}')"
   ]
  },
  {
   "cell_type": "code",
   "execution_count": 38,
   "metadata": {},
   "outputs": [],
   "source": [
    "# step 3: arrange arrays \n",
    "x = xrange\n",
    "y = output"
   ]
  },
  {
   "cell_type": "code",
   "execution_count": 39,
   "metadata": {},
   "outputs": [
    {
     "data": {
      "image/png": "[encoded data removed]",
      "text/plain": [
       "<Figure size 432x288 with 1 Axes>"
      ]
     },
     "metadata": {
      "needs_background": "light"
     },
     "output_type": "display_data"
    }
   ],
   "source": [
    "# Step 4: plot the chart\n",
    "# Plot limits must be set for the graph.\n",
    "xlim(0,70)\n",
    "ylim(0,15000)\n",
    "hlines(1,0,70,color='k')\n",
    "vlines(1,0,15000,color='k')\n",
    "grid(True)\n",
    "\n",
    "plot(x,y,'r', label=f'Cost Function: {tc_prime}') # objective function.\n",
    "legend(bbox_to_anchor=(1, 1))\n",
    "\n",
    "show()"
   ]
  },
  {
   "cell_type": "markdown",
   "metadata": {},
   "source": [
    "## Calculate Discriminate\n",
    "https://www.geeksforgeeks.org/calculate-discriminant-value/"
   ]
  },
  {
   "cell_type": "code",
   "execution_count": 26,
   "metadata": {},
   "outputs": [
    {
     "name": "stdout",
     "output_type": "stream",
     "text": [
      "Discriminant is -44 which is Negative\n",
      "Hence No Real Solutions\n"
     ]
    }
   ],
   "source": [
    "def discriminant(a, b, c):  \n",
    "    \n",
    "    discriminant = (b**2) - (4*a*c) \n",
    "    if discriminant > 0:    \n",
    "        \n",
    "        print('Discriminant is', discriminant, \n",
    "                \"which is Positive\") \n",
    "                 \n",
    "        print('Hence Two Solutions') \n",
    "          \n",
    "    elif discriminant == 0: \n",
    "          \n",
    "        print('Discriminant is', discriminant,  \n",
    "                \"which is Zero\") \n",
    "                  \n",
    "        print('Hence One Solution') \n",
    "          \n",
    "    elif discriminant < 0: \n",
    "          \n",
    "        print('Discriminant is', discriminant,  \n",
    "                \"which is Negative\") \n",
    "                  \n",
    "        print('Hence No Real Solutions') \n",
    "\n",
    "# Driver Code \n",
    "a = 3\n",
    "b = 4\n",
    "c = 5\n",
    "discriminant(a, b, c) "
   ]
  },
  {
   "cell_type": "markdown",
   "metadata": {},
   "source": [
    "# Quadratic Forumula\n",
    "https://www.programiz.com/python-programming/examples/quadratic-roots"
   ]
  },
  {
   "cell_type": "code",
   "execution_count": 32,
   "metadata": {},
   "outputs": [
    {
     "name": "stdout",
     "output_type": "stream",
     "text": [
      "Derivative: 0.024*x**2 - 0.564*x + 2.303.\n"
     ]
    }
   ],
   "source": [
    "# Specify Range \n",
    "xrange = np.arange(0,24,1)\n",
    "# initialize x\n",
    "x = Symbol('x')\n",
    "# equation\n",
    "tc = (.008*x**3)-(0.282*x**2)+(2.303*x)+4\n",
    "# derivative\n",
    "tc_prime = tc.diff(x)\n",
    "print(f'Derivative: {tc_prime}.')"
   ]
  },
  {
   "cell_type": "code",
   "execution_count": 75,
   "metadata": {},
   "outputs": [
    {
     "name": "stdout",
     "output_type": "stream",
     "text": [
      "\n",
      "Quadratic Solutions: (18.238772354356918-0j) and (5.261227645643079-0j)\n"
     ]
    }
   ],
   "source": [
    "# import complex math module\n",
    "import cmath\n",
    "\n",
    "def quadratic(a,b,c):\n",
    "    # calculate the discriminant\n",
    "    d = (b**2) - (4*a*c)\n",
    "    \n",
    "    # find two solutions\n",
    "    sol1 = (-b-cmath.sqrt(d))/(2*a)\n",
    "    sol2 = (-b+cmath.sqrt(d))/(2*a)\n",
    "    # not sure why sol1 and sol2 need negatives in front, but they do \n",
    "    print('\\nQuadratic Solutions: {0} and {1}'.format(-sol1,-sol2))\n",
    "\n",
    "quadratic(0.024,0.564,2.303)   "
   ]
  },
  {
   "cell_type": "markdown",
   "metadata": {},
   "source": [
    "# Second Derivative"
   ]
  },
  {
   "cell_type": "code",
   "execution_count": 80,
   "metadata": {},
   "outputs": [
    {
     "name": "stdout",
     "output_type": "stream",
     "text": [
      "First Derivative: 6.582*x**3 - 67.242*x**2 + 125.08*x + 6.2081.\n",
      "Second Derivative: 19.746*x**2 - 134.484*x + 125.08.\n",
      "\n",
      "Year | Rate of Change\n",
      "1998 -4308939986.1199\n",
      "1999 -4230343057.2399\n",
      "2000 -4151667318.3359003\n",
      "2001 -4072912729.9159\n",
      "2002 -3994079252.4879003\n",
      "2003 -3915166846.5599003\n",
      "2004 -3836175472.6399\n",
      "2005 -3757105091.2359004\n",
      "\n",
      "Quadratic Solutions: (5.699241325733127-0j) and (1.111454511398445-0j)\n"
     ]
    },
    {
     "data": {
      "text/plain": [
       "array([  71.19986553, -246.58817744])"
      ]
     },
     "execution_count": 80,
     "metadata": {},
     "output_type": "execute_result"
    }
   ],
   "source": [
    "# Specify Range \n",
    "xrange = np.arange(1998,2006,1)\n",
    "# initialize x\n",
    "x = Symbol('x')\n",
    "# equation\n",
    "tc = (1.6455*x**4)-(22.414*x**3)+(62.54*x**2)+(6.2081*x)+1011\n",
    "# derivative\n",
    "tc_prime = tc.diff(x)\n",
    "tc_double_prime = tc_prime.diff(x)\n",
    "print(f'First Derivative: {tc_prime}.\\nSecond Derivative: {tc_double_prime}.\\n')\n",
    "# create function from derivative\n",
    "roc = lambdify(x,tc_prime,'numpy')\n",
    "roc2 = lambdify(x,tc_double_prime,'numpy')\n",
    "# calculate rates of change\n",
    "rates_of_change = roc(xrange)\n",
    "rates_of_change2 = roc2(xrange)\n",
    "\n",
    "for i in range(0,8):\n",
    "    if i == 0:\n",
    "        print(f'Year | Rate of Change\\n{xrange[i]} {rates_of_change[i]}')\n",
    "    else:\n",
    "        print(f'{xrange[i]} {rates_of_change[i]}')\n",
    "\n",
    "# Need to run script before moving on to obtain recalcuated second derivative\n",
    "quadratic(19.746,134.484,125.08)\n",
    "\n",
    "# enter the quadratic solutions here:\n",
    "roc(np.array([1.111,5.699]))"
   ]
  },
  {
   "cell_type": "markdown",
   "metadata": {},
   "source": [
    "## Maximum Profit"
   ]
  },
  {
   "cell_type": "code",
   "execution_count": 65,
   "metadata": {},
   "outputs": [
    {
     "name": "stdout",
     "output_type": "stream",
     "text": [
      "First Derivative: -3*x**2 + 24*x + 144.\n",
      "Second Derivative: 24 - 6*x.\n",
      "\n",
      "Year | Rate of Change\n",
      "5 189 695\n",
      "6 180 880\n",
      "7 165 1053\n",
      "8 144 1208\n",
      "9 117 1339\n",
      "10 84 1440\n",
      "11 45 1505\n",
      "12 0 1528\n",
      "13 -51 1503\n",
      "14 -108 1424\n",
      "15 -171 1285\n",
      "16 -240 1080\n",
      "17 -315 803\n",
      "18 -396 448\n",
      "19 -483 9\n"
     ]
    },
    {
     "data": {
      "image/png": "[encoded data removed]",
      "text/plain": [
       "<Figure size 432x288 with 2 Axes>"
      ]
     },
     "metadata": {
      "needs_background": "light"
     },
     "output_type": "display_data"
    }
   ],
   "source": [
    "# Specify Range \n",
    "xrange = np.arange(5,20,1)\n",
    "# initialize x\n",
    "x = Symbol('x')\n",
    "# equation\n",
    "p = -(x**3)+(12*x**2)+(144*x)-200\n",
    "p_equation = p.subs(x,xrange) # makes profit fn usable in graph\n",
    "p_end = lambdify(x,p_equation,'numpy') # lambdify fn \n",
    "total_profit = p_end(xrange)\n",
    "# derivative\n",
    "p_prime = p.diff(x)\n",
    "p_double_prime = p_prime.diff(x)\n",
    "print(f'First Derivative: {p_prime}.\\nSecond Derivative: {p_double_prime}.\\n')\n",
    "# create function from derivative\n",
    "roc = lambdify(x,p_prime,'numpy')\n",
    "roc2 = lambdify(x,p_double_prime,'numpy')\n",
    "# calculate rates of change\n",
    "rates_of_change = roc(xrange)\n",
    "rates_of_change2 = roc2(xrange)\n",
    "\n",
    "\n",
    "for i in range(0,15):\n",
    "    if i == 0:\n",
    "        print(f'Year | Rate of Change\\n{xrange[i]} {rates_of_change[i]} {total_profit[i]}')\n",
    "    else:\n",
    "        print(f'{xrange[i]} {rates_of_change[i]} {total_profit[i]}')\n",
    "\n",
    "        \n",
    "# Plot the graphs\n",
    "x = xrange\n",
    "y = p_end(xrange)\n",
    "y1 = roc(xrange)\n",
    "\n",
    "fig, ax1 = plt.subplots()\n",
    "\n",
    "color = 'tab:red'\n",
    "ax1.set_xlabel('Units Produced')\n",
    "ax1.set_ylabel('Total Profit', color=color)\n",
    "ax1.plot(x, y, color=color)\n",
    "ax1.tick_params(axis='y', labelcolor=color)\n",
    "\n",
    "ax2 = ax1.twinx()  \n",
    "\n",
    "color = 'tab:blue'\n",
    "ax2.set_ylabel('Marginal Profit', color=color)  \n",
    "ax2.plot(x, y1, color=color)\n",
    "ax2.tick_params(axis='y', labelcolor=color)\n",
    "\n",
    "title ('Total and Marginal Profits') \n",
    "plt.tight_layout()"
   ]
  },
  {
   "cell_type": "markdown",
   "metadata": {},
   "source": [
    "## Relative Maxima"
   ]
  },
  {
   "cell_type": "code",
   "execution_count": 70,
   "metadata": {},
   "outputs": [
    {
     "name": "stdout",
     "output_type": "stream",
     "text": [
      "First Derivative: -3*x**2 + 6*x + 189.\n",
      "Second Derivative: 6 - 6*x.\n",
      "\n",
      "X | Rate of Change | Y\n",
      "4 165 5593\n",
      "5 144 5748\n",
      "6 117 5879\n",
      "7 84 5980\n",
      "8 45 6045\n",
      "9 0 6068\n",
      "10 -51 6043\n",
      "11 -108 5964\n",
      "12 -171 5825\n",
      "13 -240 5620\n",
      "14 -315 5343\n",
      "15 -396 4988\n",
      "16 -483 4549\n",
      "17 -576 4020\n",
      "18 -675 3395\n"
     ]
    },
    {
     "data": {
      "image/png": "[encoded data removed]",
      "text/plain": [
       "<Figure size 432x288 with 2 Axes>"
      ]
     },
     "metadata": {
      "needs_background": "light"
     },
     "output_type": "display_data"
    }
   ],
   "source": [
    "# Specify Range \n",
    "xrange = np.arange(4,20,1)\n",
    "# initialize x\n",
    "x = Symbol('x')\n",
    "# equation\n",
    "f = -(x**3)+(3*x**2)+(189*x)+4853\n",
    "f_equation = f.subs(x,xrange) # makes profit fn usable in graph\n",
    "f_end = lambdify(x,f_equation,'numpy') # lambdify fn \n",
    "function = f_end(xrange)\n",
    "# derivative\n",
    "f_prime = f.diff(x)\n",
    "f_double_prime = f_prime.diff(x)\n",
    "print(f'First Derivative: {f_prime}.\\nSecond Derivative: {f_double_prime}.\\n')\n",
    "# create function from derivative\n",
    "roc = lambdify(x,f_prime,'numpy')\n",
    "roc2 = lambdify(x,f_double_prime,'numpy')\n",
    "# calculate rates of change\n",
    "rates_of_change = roc(xrange)\n",
    "rates_of_change2 = roc2(xrange)\n",
    "\n",
    "\n",
    "for i in range(0,15):\n",
    "    if i == 0:\n",
    "        print(f'X | Rate of Change | Y\\n{xrange[i]} {rates_of_change[i]} {function[i]}')\n",
    "    else:\n",
    "        print(f'{xrange[i]} {rates_of_change[i]} {function[i]}')\n",
    "\n",
    "        \n",
    "# Plot the graphs\n",
    "x = xrange\n",
    "y = f_end(xrange)\n",
    "y1 = roc(xrange)\n",
    "\n",
    "fig, ax1 = plt.subplots()\n",
    "\n",
    "color = 'tab:red'\n",
    "ax1.set_xlabel('x')\n",
    "ax1.set_ylabel('y', color=color)\n",
    "ax1.plot(x, y, color=color)\n",
    "ax1.tick_params(axis='y', labelcolor=color)\n",
    "\n",
    "ax2 = ax1.twinx()  \n",
    "\n",
    "color = 'tab:blue'\n",
    "ax2.set_ylabel('Derivative', color=color)  \n",
    "ax2.plot(x, y1, color=color)\n",
    "ax2.tick_params(axis='y', labelcolor=color)\n",
    "\n",
    "title ('Function and First Derivative') \n",
    "plt.tight_layout()"
   ]
  }
 ],
 "metadata": {
  "kernelspec": {
   "display_name": "Python 3",
   "language": "python",
   "name": "python3"
  },
  "language_info": {
   "codemirror_mode": {
    "name": "ipython",
    "version": 3
   },
   "file_extension": ".py",
   "mimetype": "text/x-python",
   "name": "python",
   "nbconvert_exporter": "python",
   "pygments_lexer": "ipython3",
   "version": "3.7.4"
  }
 },
 "nbformat": 4,
 "nbformat_minor": 2
}
