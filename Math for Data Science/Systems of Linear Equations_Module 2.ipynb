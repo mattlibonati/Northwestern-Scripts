{
 "cells": [
  {
   "cell_type": "code",
   "execution_count": 104,
   "metadata": {},
   "outputs": [],
   "source": [
    "import numpy as np\n",
    "from numpy.linalg import linalg, inv"
   ]
  },
  {
   "cell_type": "markdown",
   "metadata": {},
   "source": [
    "Solve For Variables"
   ]
  },
  {
   "cell_type": "code",
   "execution_count": 5,
   "metadata": {},
   "outputs": [
    {
     "name": "stdout",
     "output_type": "stream",
     "text": [
      "The variables are: [0.4  0.46].\n",
      "The total cost is: 26.999999999999986.\n"
     ]
    }
   ],
   "source": [
    "#Question 1\n",
    "\n",
    "#If 30 lb of rice and 20 lb of potatoes cost $21.20, and 20 lb of rice and 12 lb of potatoes \n",
    "#cost $13.52, how much will 10 lb of rice and 50 lb of potatoes cost?\n",
    "\n",
    "coefficients = np.array([[30,20],[20,12]])\n",
    "constants = np.array([21.2,13.52])\n",
    "variables = np.linalg.solve(coefficients,constants)\n",
    "\n",
    "print(f'The variables are: {variables}.')\n",
    "\n",
    "solution = 10*variables[0] + 50*variables[1]\n",
    "\n",
    "print(f'The total cost is: {solution}.')"
   ]
  },
  {
   "cell_type": "code",
   "execution_count": 6,
   "metadata": {},
   "outputs": [
    {
     "name": "stdout",
     "output_type": "stream",
     "text": [
      "The variables are: [500. 400.].\n"
     ]
    }
   ],
   "source": [
    "# Question 2\n",
    "\n",
    "#A person has $42,000 invested in stock A and stock B. Stock A currently sells \n",
    "#for $20 a share and stock B sells for $80 a share. If stock B triples in value \n",
    "#and stock A goes up 50%, his stock will be worth $111,000. How many shares of \n",
    "#each stock does he own?\n",
    "\n",
    "coefficients = np.array([[20,80],[30,240]])\n",
    "constants = np.array([42000,111000])\n",
    "variables = np.linalg.solve(coefficients,constants)\n",
    "\n",
    "print(f'The variables are: {variables}.')\n",
    "\n",
    "#solution = 10*variables[0] + 50*variables[1]\n",
    "\n",
    "#print(f'The total cost is: {solution}.')"
   ]
  },
  {
   "cell_type": "code",
   "execution_count": 7,
   "metadata": {},
   "outputs": [
    {
     "name": "stdout",
     "output_type": "stream",
     "text": [
      "The variables are: [1.18423789e-15 1.60000000e+01 1.30000000e+01].\n"
     ]
    }
   ],
   "source": [
    "# Question 4\n",
    "coefficients = np.array([[1,1,-1],[3,-1,1],[1,-4,2]])\n",
    "constants = np.array([3,-3,-38])\n",
    "variables = np.linalg.solve(coefficients,constants)\n",
    "\n",
    "print(f'The variables are: {variables}.')\n",
    "\n",
    "\n",
    "#solution = 10*variables[0] + 50*variables[1]\n",
    "#print(f'The total cost is: {solution}.')"
   ]
  },
  {
   "cell_type": "code",
   "execution_count": 8,
   "metadata": {},
   "outputs": [
    {
     "name": "stdout",
     "output_type": "stream",
     "text": [
      "The variables are: [160.  80.  40.].\n"
     ]
    }
   ],
   "source": [
    "# Question 5\n",
    "\n",
    "# A rental truck company plans to spend $8 million on 280 new vehicles. Each \n",
    "# commercial van will cost $25,000, each small truck $30,000, and each large \n",
    "# truck $40,000. Past experience shows that they need twice as many vans as \n",
    "# small trucks. How many of each type of vehicle can they buy?\n",
    "\n",
    "coefficients = np.array([[1,1,1],[25000,30000,40000],[1,-2,0]])\n",
    "constants = np.array([280,8000000,0])\n",
    "variables = np.linalg.solve(coefficients,constants)\n",
    "\n",
    "print(f'The variables are: {variables}.')"
   ]
  },
  {
   "cell_type": "code",
   "execution_count": 9,
   "metadata": {},
   "outputs": [
    {
     "name": "stdout",
     "output_type": "stream",
     "text": [
      "The variables are: [  5.   3.  15. 123.].\n"
     ]
    }
   ],
   "source": [
    "# Question 6\n",
    "\n",
    "# In a certain season, a baseball player had a total of 146 hits. He hit two \n",
    "# fewer triples than home runs, and he also hit three times as many doubles as \n",
    "# home runs. Additionally, he hit 41 times as many singles as triples. \n",
    "# Find the number of singles, doubles, triples, and home runs hit by the\n",
    "# player during the season.\n",
    "\n",
    "coefficients = np.array([[1,1,1,1],\n",
    "                         [1,-1,0,0],\n",
    "                         [-3,0,1,0],\n",
    "                         [0,-41,0,1]])\n",
    "constants = np.array([146,2,0,0])\n",
    "variables = np.linalg.solve(coefficients,constants)\n",
    "\n",
    "print(f'The variables are: {variables}.')"
   ]
  },
  {
   "cell_type": "code",
   "execution_count": 34,
   "metadata": {},
   "outputs": [
    {
     "name": "stdout",
     "output_type": "stream",
     "text": [
      "First week sales matrix:\n",
      "[[ 84  44  16 112]\n",
      " [108  72  18 150]\n",
      " [ 60  30   0  70]]\n",
      "New week sales matrix:\n",
      "[[105.  55.  20. 140.]\n",
      " [144.  96.  24. 200.]\n",
      " [ 66.  33.   0.  77.]]\n",
      "Total sales matrix:\n",
      "[[189.  99.  36. 252.]\n",
      " [252. 168.  42. 350.]\n",
      " [126.  63.   0. 147.]]\n"
     ]
    }
   ],
   "source": [
    "# Question 7\n",
    "\n",
    "# There are three convenience stores in Gambier. This week, Store I sold 84 \n",
    "# loaves of bread, 44 quarts of milk, 16 jars of peanut butter, and 112 \n",
    "# pounds of cold cuts. Store II sold 108 loaves of bread, 72 quarts of milk, \n",
    "# 18 jars of peanut butter, and 150 pounds of cold cuts. Store III sold 60 bread, \n",
    "# 30 quarts of milk, no peanut butter, and 70 pounds of cold cuts. \n",
    "\n",
    "store1 = [84,44,16,112]\n",
    "store2 = [108,72,18,150]\n",
    "store3 = [60,30,0,70]\n",
    "\n",
    "matrix = np.array([store1,store2,store3])\n",
    "print('First week sales matrix:') \n",
    "print(matrix)\n",
    "\n",
    "\n",
    "# During the following week, store 1 increased 25% sales, store2 1/3, store 3 10%\n",
    "sale_change = [[1.25],\n",
    "               [4/3],\n",
    "               [1.1]]\n",
    "\n",
    "new_week_sales_matrix = matrix * sale_change\n",
    "print('New week sales matrix:') \n",
    "print(new_week_sales_matrix)\n",
    "\n",
    "total_sales = matrix + new_week_sales_matrix\n",
    "print('Total sales matrix:') \n",
    "print(total_sales)"
   ]
  },
  {
   "cell_type": "code",
   "execution_count": 77,
   "metadata": {},
   "outputs": [
    {
     "name": "stdout",
     "output_type": "stream",
     "text": [
      "Country B Matrix:\n",
      " [[ 20.8  17.4]\n",
      " [  1.4   0.8]\n",
      " [  7.3  14.3]\n",
      " [ 17.6 101.8]\n",
      " [ 34.9  25.4]\n",
      " [ 36.8  39.5]\n",
      " [126.9  93.9]]\n",
      "\n",
      "Country C Matrix:\n",
      " [[ 10.2  12.3]\n",
      " [  0.5   3.1]\n",
      " [  6.8   2.6]\n",
      " [ 24.7  39.1]\n",
      " [ 25.3   5.7]\n",
      " [ 28.1  19.5]\n",
      " [ 91.6 154.4]]\n",
      "\n",
      "Total trade Matrix:\n",
      " [[ 31.   29.7]\n",
      " [  1.9   3.9]\n",
      " [ 14.1  16.9]\n",
      " [ 42.3 140.9]\n",
      " [ 60.2  31.1]\n",
      " [ 64.9  59. ]\n",
      " [218.5 248.3]]\n",
      "\n",
      "Total trade Matrix:\n",
      " [[ 10.6   5.1]\n",
      " [  0.9  -2.3]\n",
      " [  0.5  11.7]\n",
      " [ -7.1  62.7]\n",
      " [  9.6  19.7]\n",
      " [  8.7  20. ]\n",
      " [ 35.3 -60.5]]\n"
     ]
    }
   ],
   "source": [
    "# Question 8\n",
    "#                          Country B  |    Country C\n",
    "#                         Aimp | Aexp |   Aimp| Aexp   \n",
    "food_and_live_animals = ([20.8 ,17.4]   ,[10.2,12.3])\n",
    "beverages_and_tobacco = ([1.4  ,0.8]    ,[0.5 ,3.1])\n",
    "crude_minerals        = ([7.3  ,14.3]   ,[6.8 ,2.6])\n",
    "mineral_fuels         = ([17.6 ,101.8]  ,[24.7,39.1])\n",
    "chemicals             = ([34.9 ,25.4]   ,[25.3,5.7])\n",
    "manufactured_goods    = ([36.8 ,39.5]   ,[28.1,19.5])\n",
    "machinery             = ([126.9,93.9]   ,[91.6,154.4])\n",
    "\n",
    "\n",
    "countryB = np.array([food_and_live_animals[0],\n",
    "                     beverages_and_tobacco[0],\n",
    "                     crude_minerals[0],\n",
    "                     mineral_fuels[0],\n",
    "                     chemicals[0],\n",
    "                     manufactured_goods[0],\n",
    "                     machinery[0]])\n",
    "print('Country B Matrix:\\n {}'.format(countryB))\n",
    "\n",
    "countryC = np.array([food_and_live_animals[1],\n",
    "                     beverages_and_tobacco[1],\n",
    "                     crude_minerals[1],\n",
    "                     mineral_fuels[1],\n",
    "                     chemicals[1],\n",
    "                     manufactured_goods[1],\n",
    "                     machinery[1]])\n",
    "print('\\nCountry C Matrix:\\n {}'.format(countryC))\n",
    "\n",
    "total_trade = countryB + countryC\n",
    "print('\\nTotal trade Matrix:\\n {}'.format(total_trade))\n",
    "\n",
    "difference_in_trade = countryB - countryC\n",
    "print('\\nTotal trade Matrix:\\n {}'.format(difference_in_trade))"
   ]
  },
  {
   "cell_type": "code",
   "execution_count": 79,
   "metadata": {},
   "outputs": [
    {
     "name": "stdout",
     "output_type": "stream",
     "text": [
      "Group A life expentancy Matrix:\n",
      " [[60.  67.4]\n",
      " [62.8 71.8]\n",
      " [64.1 73.6]\n",
      " [68.7 75.1]\n",
      " [71.8 78. ]]\n",
      "\n",
      "Group B life expentancy Matrix:\n",
      " [[68.  75.9]\n",
      " [70.2 78.8]\n",
      " [72.7 79.4]\n",
      " [73.5 79.7]\n",
      " [76.7 81.4]]\n",
      "\n",
      "Difference in life expectancy Matrix:\n",
      " [[-8.  -8.5]\n",
      " [-7.4 -7. ]\n",
      " [-8.6 -5.8]\n",
      " [-4.8 -4.6]\n",
      " [-4.9 -3.4]]\n"
     ]
    }
   ],
   "source": [
    "# Question 9 - Life expectancy \n",
    "#        Group A    |  Group B\n",
    "#       Male|Female | Male|Female  \n",
    "y1970 = ([60.0,67.4],[68.0,75.9])\n",
    "y1980 = ([62.8,71.8],[70.2,78.8])\n",
    "y1990 = ([64.1,73.6],[72.7,79.4])\n",
    "y2000 = ([68.7,75.1],[73.5,79.7])\n",
    "y2010 = ([71.8,78.0],[76.7,81.4])\n",
    "\n",
    "groupA = np.array([y1970[0],\n",
    "                   y1980[0],\n",
    "                   y1990[0],\n",
    "                   y2000[0],\n",
    "                   y2010[0]])\n",
    "print('Group A life expentancy Matrix:\\n {}'.format(groupA))\n",
    "\n",
    "groupB = np.array([y1970[1],\n",
    "                   y1980[1],\n",
    "                   y1990[1],\n",
    "                   y2000[1],\n",
    "                   y2010[1]])\n",
    "print('\\nGroup B life expentancy Matrix:\\n {}'.format(groupB))\n",
    "\n",
    "\n",
    "difference_in_life_expectancy = groupA - groupB\n",
    "print('\\nDifference in life expectancy Matrix:\\n {}'.format(difference_in_life_expectancy))"
   ]
  },
  {
   "cell_type": "code",
   "execution_count": 87,
   "metadata": {},
   "outputs": [
    {
     "name": "stdout",
     "output_type": "stream",
     "text": [
      "The incorrect matrix is: \n",
      "[[ 4  5]\n",
      " [ 3 27]]\n",
      "\n",
      "The correct matrix is: \n",
      "[[19 43]\n",
      " [ 7 28]]\n",
      "\n",
      "The correct matrix is: \n",
      "[[ 5 -7]\n",
      " [ 3 42]]\n"
     ]
    }
   ],
   "source": [
    "# Question 10\n",
    "\n",
    "A = np.array([[-2,5],\n",
    "              [ 1,3]])\n",
    "\n",
    "B = np.array([[-2,1],\n",
    "              [ 3,9]])\n",
    "\n",
    "incorrect_AB = A*B\n",
    "print('The incorrect matrix is: \\n{}'.format(incorrect_AB))\n",
    "\n",
    "correct_AB   = np.dot(A,B) \n",
    "print('\\nThe correct matrix is: \\n{}'.format(correct_AB))\n",
    "\n",
    "correct_BA   = np.dot(B,A) \n",
    "print('\\nThe correct matrix is: \\n{}'.format(correct_BA))"
   ]
  },
  {
   "cell_type": "code",
   "execution_count": 90,
   "metadata": {},
   "outputs": [
    {
     "name": "stdout",
     "output_type": "stream",
     "text": [
      "Total store price matrix: \n",
      " [[ 90  60 100]\n",
      " [ 60  50 150]]\n",
      "Sale by store matrix: \n",
      " [[0.5  0.2 ]\n",
      " [0.25 0.2 ]\n",
      " [0.25 0.6 ]]\n",
      "\n",
      "Store to sales ratio: \n",
      "[[ 85.  90.]\n",
      " [ 80. 112.]]\n"
     ]
    }
   ],
   "source": [
    "# Question 11\n",
    "\n",
    "storeA = [90,60,100]\n",
    "storeB = [60,50,150]\n",
    "\n",
    "total_store = np.array([storeA, storeB])\n",
    "print('Total store price matrix: \\n {}'.format(total_store))\n",
    "\n",
    "shoeStoreSales   = [1/2,1/5]\n",
    "sandalStoreSales = [1/4,1/5]\n",
    "bootStoreSales   = [1/4,3/5]\n",
    "\n",
    "store_sale = np.array([shoeStoreSales, sandalStoreSales, bootStoreSales])\n",
    "print('Sale by store matrix: \\n {}'.format(store_sale))\n",
    "\n",
    "store_to_sales = np.dot(total_store,store_sale) \n",
    "print('\\nStore to sales ratio: \\n{}'.format(store_to_sales))"
   ]
  },
  {
   "cell_type": "code",
   "execution_count": 97,
   "metadata": {
    "scrolled": true
   },
   "outputs": [
    {
     "name": "stdout",
     "output_type": "stream",
     "text": [
      "[[54 45]\n",
      " [87 84]]\n",
      "[[0.33333333 0.33333333]\n",
      " [0.33333333 0.33333333]]\n",
      "[[18. 15.]\n",
      " [29. 28.]]\n"
     ]
    }
   ],
   "source": [
    "# Question 12: Average Vehicle Sales \n",
    "#       Jan     feb     march\n",
    "#           cars/trucks \n",
    "new  = ([15,12],[14,13],[25,20])\n",
    "used = ([23,18],[37,26],[27,40])\n",
    "\n",
    "jan  = np.array([new[0],\n",
    "                used[0]])\n",
    "feb  = np.array([new[1],\n",
    "                used[1]])\n",
    "mar  = np.array([new[2],\n",
    "                used[2]])\n",
    "\n",
    "first_quarter = jan + feb + mar\n",
    "\n",
    "print(first_quarter)\n",
    "\n",
    "q_avg_conversion = np.array([[1/3,1/3],\n",
    "                             [1/3,1/3]])\n",
    "\n",
    "print(q_avg_conversion)\n",
    "\n",
    "first_quarter_average = first_quarter * q_avg_conversion\n",
    "print(first_quarter_average)"
   ]
  },
  {
   "cell_type": "code",
   "execution_count": 107,
   "metadata": {},
   "outputs": [
    {
     "name": "stdout",
     "output_type": "stream",
     "text": [
      "Matrix: \n",
      " [[ 1 -1  5]\n",
      " [ 0  1  7]\n",
      " [ 2 -3  2]]\n",
      "\n",
      "Inverse matrix: \n",
      " [[-23.  13.  12.]\n",
      " [-14.   8.   7.]\n",
      " [  2.  -1.  -1.]]\n"
     ]
    }
   ],
   "source": [
    "# Question 13: Find the Inverse \n",
    "\n",
    "matrix = np.matrix([[1,-1,5],\n",
    "                    [0, 1,7],\n",
    "                    [2,-3,2]])\n",
    "print('Matrix: \\n {}'.format(matrix))\n",
    "\n",
    "inverse_matrix = inv(matrix)\n",
    "print('\\nInverse matrix: \\n {}'.format(inverse_matrix))\n",
    "\n"
   ]
  },
  {
   "cell_type": "code",
   "execution_count": 109,
   "metadata": {},
   "outputs": [
    {
     "name": "stdout",
     "output_type": "stream",
     "text": [
      "Ingrediant Matrix: \n",
      "[[1 2 4]\n",
      " [2 1 2]\n",
      " [2 1 3]]\n"
     ]
    }
   ],
   "source": [
    "# Question 14\n",
    "# type   1 2 3\n",
    "flour = [1,2,4]\n",
    "sugar = [2,1,2]\n",
    "eggs  = [2,1,3]\n",
    "\n",
    "ingrediant_matrix = np.matrix([flour, sugar, eggs])\n",
    "print('Ingrediant Matrix: \\n{}'.format(ingrediant_matrix))\n",
    "\n",
    "ingrediant_matrix = np.matrix([flour, sugar, eggs])\n",
    "print('Ingrediant Matrix: \\n{}'.format(ingrediant_matrix))"
   ]
  },
  {
   "cell_type": "code",
   "execution_count": 110,
   "metadata": {},
   "outputs": [
    {
     "name": "stdout",
     "output_type": "stream",
     "text": [
      "The variables are: [ 6.  7. 13.].\n"
     ]
    }
   ],
   "source": [
    "# Question 14\n",
    "\n",
    "coefficients = np.array([[2,6,4],[2,1,2],[2,1,3]])\n",
    "constants = np.array([106,45,58])\n",
    "variables = np.linalg.solve(coefficients,constants)\n",
    "\n",
    "print(f'The variables are: {variables}.')"
   ]
  },
  {
   "cell_type": "code",
   "execution_count": 1,
   "metadata": {},
   "outputs": [
    {
     "ename": "NameError",
     "evalue": "name 'np' is not defined",
     "output_type": "error",
     "traceback": [
      "\u001b[1;31m---------------------------------------------------------------------------\u001b[0m",
      "\u001b[1;31mNameError\u001b[0m                                 Traceback (most recent call last)",
      "\u001b[1;32m<ipython-input-1-f9cb0f2c4fe5>\u001b[0m in \u001b[0;36m<module>\u001b[1;34m\u001b[0m\n\u001b[0;32m      1\u001b[0m \u001b[1;31m# Question 14\u001b[0m\u001b[1;33m\u001b[0m\u001b[1;33m\u001b[0m\u001b[1;33m\u001b[0m\u001b[0m\n\u001b[0;32m      2\u001b[0m \u001b[1;33m\u001b[0m\u001b[0m\n\u001b[1;32m----> 3\u001b[1;33m \u001b[0mcoefficients\u001b[0m \u001b[1;33m=\u001b[0m \u001b[0mnp\u001b[0m\u001b[1;33m.\u001b[0m\u001b[0marray\u001b[0m\u001b[1;33m(\u001b[0m\u001b[1;33m[\u001b[0m\u001b[1;33m[\u001b[0m\u001b[1;36m2\u001b[0m\u001b[1;33m,\u001b[0m\u001b[1;36m6\u001b[0m\u001b[1;33m,\u001b[0m\u001b[1;36m4\u001b[0m\u001b[1;33m]\u001b[0m\u001b[1;33m,\u001b[0m\u001b[1;33m[\u001b[0m\u001b[1;36m2\u001b[0m\u001b[1;33m,\u001b[0m\u001b[1;36m1\u001b[0m\u001b[1;33m,\u001b[0m\u001b[1;36m2\u001b[0m\u001b[1;33m]\u001b[0m\u001b[1;33m,\u001b[0m\u001b[1;33m[\u001b[0m\u001b[1;36m2\u001b[0m\u001b[1;33m,\u001b[0m\u001b[1;36m1\u001b[0m\u001b[1;33m,\u001b[0m\u001b[1;36m3\u001b[0m\u001b[1;33m]\u001b[0m\u001b[1;33m]\u001b[0m\u001b[1;33m)\u001b[0m\u001b[1;33m\u001b[0m\u001b[1;33m\u001b[0m\u001b[0m\n\u001b[0m\u001b[0;32m      4\u001b[0m \u001b[0mconstants\u001b[0m \u001b[1;33m=\u001b[0m \u001b[0mnp\u001b[0m\u001b[1;33m.\u001b[0m\u001b[0marray\u001b[0m\u001b[1;33m(\u001b[0m\u001b[1;33m[\u001b[0m\u001b[1;36m106\u001b[0m\u001b[1;33m,\u001b[0m\u001b[1;36m45\u001b[0m\u001b[1;33m,\u001b[0m\u001b[1;36m58\u001b[0m\u001b[1;33m]\u001b[0m\u001b[1;33m)\u001b[0m\u001b[1;33m\u001b[0m\u001b[1;33m\u001b[0m\u001b[0m\n\u001b[0;32m      5\u001b[0m \u001b[0mvariables\u001b[0m \u001b[1;33m=\u001b[0m \u001b[0mnp\u001b[0m\u001b[1;33m.\u001b[0m\u001b[0mlinalg\u001b[0m\u001b[1;33m.\u001b[0m\u001b[0msolve\u001b[0m\u001b[1;33m(\u001b[0m\u001b[0mcoefficients\u001b[0m\u001b[1;33m,\u001b[0m\u001b[0mconstants\u001b[0m\u001b[1;33m)\u001b[0m\u001b[1;33m\u001b[0m\u001b[1;33m\u001b[0m\u001b[0m\n",
      "\u001b[1;31mNameError\u001b[0m: name 'np' is not defined"
     ]
    }
   ],
   "source": [
    "# Question 14\n",
    "\n",
    "coefficients = np.array([[2,6,4],[2,1,2],[2,1,3]])\n",
    "constants = np.array([106,45,58])\n",
    "variables = np.linalg.solve(coefficients,constants)\n",
    "\n",
    "print(f'The variables are: {variables}.')"
   ]
  },
  {
   "cell_type": "code",
   "execution_count": 2,
   "metadata": {},
   "outputs": [
    {
     "ename": "NameError",
     "evalue": "name 'np' is not defined",
     "output_type": "error",
     "traceback": [
      "\u001b[1;31m---------------------------------------------------------------------------\u001b[0m",
      "\u001b[1;31mNameError\u001b[0m                                 Traceback (most recent call last)",
      "\u001b[1;32m<ipython-input-2-229a26d13e7e>\u001b[0m in \u001b[0;36m<module>\u001b[1;34m\u001b[0m\n\u001b[0;32m      4\u001b[0m \u001b[0mtablet_b\u001b[0m \u001b[1;33m=\u001b[0m \u001b[1;33m[\u001b[0m\u001b[1;36m18\u001b[0m\u001b[1;33m,\u001b[0m\u001b[1;36m15\u001b[0m\u001b[1;33m]\u001b[0m\u001b[1;33m\u001b[0m\u001b[1;33m\u001b[0m\u001b[0m\n\u001b[0;32m      5\u001b[0m \u001b[0mtablet_c\u001b[0m \u001b[1;33m=\u001b[0m \u001b[1;33m[\u001b[0m\u001b[1;36m23\u001b[0m\u001b[1;33m,\u001b[0m\u001b[1;36m35\u001b[0m\u001b[1;33m]\u001b[0m\u001b[1;33m\u001b[0m\u001b[1;33m\u001b[0m\u001b[0m\n\u001b[1;32m----> 6\u001b[1;33m tablet_matrix = np.matrix([tablet_a,\n\u001b[0m\u001b[0;32m      7\u001b[0m                            \u001b[0mtablet_b\u001b[0m\u001b[1;33m,\u001b[0m\u001b[1;33m\u001b[0m\u001b[1;33m\u001b[0m\u001b[0m\n\u001b[0;32m      8\u001b[0m                            tablet_c])\n",
      "\u001b[1;31mNameError\u001b[0m: name 'np' is not defined"
     ]
    }
   ],
   "source": [
    "# Question 15: vitamin tablets \n",
    "\n",
    "tablet_a = [13,12]\n",
    "tablet_b = [18,15]\n",
    "tablet_c = [23,35]\n",
    "tablet_matrix = np.matrix([tablet_a,\n",
    "                           tablet_b,\n",
    "                           tablet_c])\n",
    "print('Tablet Matrix: \\n{}'.format(tablet_matrix))\n",
    "\n",
    "mix1 = [4300,5225]\n",
    "mix2 = [2985,3440]\n",
    "mix3 = [4530,4830]\n",
    "mix_matrix = np.matrix([mix1,\n",
    "                        mix2,\n",
    "                        mix3])\n",
    "print('\\nMix Matrix: \\n{}'.format(mix_matrix))\n",
    "\n",
    "total_tablets = np.matrix([[225],\n",
    "                           [170],\n",
    "                           [260]])\n",
    "print('\\nTotal tablets Matrix: \\n{}'.format(total_tablets))\n",
    "\n"
   ]
  },
  {
   "cell_type": "code",
   "execution_count": 128,
   "metadata": {},
   "outputs": [
    {
     "name": "stdout",
     "output_type": "stream",
     "text": [
      "\n",
      "Mix Matrix: \n",
      "[[ 1  1  1]\n",
      " [13 18 23]\n",
      " [12 15 35]]\n",
      "\n",
      "Inverse matrix: \n",
      " [[ 3.35294118 -0.23529412  0.05882353]\n",
      " [-2.10588235  0.27058824 -0.11764706]\n",
      " [-0.24705882 -0.03529412  0.05882353]]\n",
      "\n",
      "Mix Matrix 1: \n",
      " [[ 225]\n",
      " [4300]\n",
      " [5225]]\n",
      "\n",
      "Table mix for scenario A is: \n",
      "[[ 50.]\n",
      " [ 75.]\n",
      " [100.]]\n",
      "\n",
      "Mix Matrix 2: \n",
      " [[ 170]\n",
      " [2985]\n",
      " [3440]]\n",
      "\n",
      "Table mix for scenario B is: \n",
      "[[70.]\n",
      " [45.]\n",
      " [55.]]\n",
      "\n",
      "Mix Matrix 2: \n",
      " [[ 260]\n",
      " [4530]\n",
      " [4830]]\n",
      "\n",
      "Table mix for scenario B is: \n",
      "[[ 90.]\n",
      " [110.]\n",
      " [ 60.]]\n"
     ]
    }
   ],
   "source": [
    "# Question 15: vitamin tablets \n",
    "\n",
    "matrix = np.matrix([[1,1,1],\n",
    "                        [13,18,23],\n",
    "                        [12,15,35]])\n",
    "print('\\nMix Matrix: \\n{}'.format(mix_matrix))\n",
    "\n",
    "inverse_matrix = inv(matrix)\n",
    "print('\\nInverse matrix: \\n {}'.format(inverse_matrix))\n",
    "\n",
    "mix_matrix1 = np.matrix([[225],[4300],[5225]])\n",
    "print('\\nMix Matrix 1: \\n {}'.format(mix_matrix1))\n",
    "mix1_solution = np.dot(inverse_matrix,mix_matrix1) \n",
    "print('\\nTable mix for scenario A is: \\n{}'.format(mix1_solution))\n",
    "\n",
    "mix_matrix2 = np.matrix([[170],[2985],[3440]])\n",
    "print('\\nMix Matrix 2: \\n {}'.format(mix_matrix2))\n",
    "mix2_solution = np.dot(inverse_matrix,mix_matrix2) \n",
    "print('\\nTable mix for scenario B is: \\n{}'.format(mix2_solution))\n",
    "\n",
    "mix_matrix3 = np.matrix([[260],[4530],[4830]])\n",
    "print('\\nMix Matrix 2: \\n {}'.format(mix_matrix3))\n",
    "mix3_solution = np.dot(inverse_matrix,mix_matrix3) \n",
    "print('\\nTable mix for scenario B is: \\n{}'.format(mix3_solution))"
   ]
  }
 ],
 "metadata": {
  "kernelspec": {
   "display_name": "Python 3",
   "language": "python",
   "name": "python3"
  },
  "language_info": {
   "codemirror_mode": {
    "name": "ipython",
    "version": 3
   },
   "file_extension": ".py",
   "mimetype": "text/x-python",
   "name": "python",
   "nbconvert_exporter": "python",
   "pygments_lexer": "ipython3",
   "version": "3.7.4"
  }
 },
 "nbformat": 4,
 "nbformat_minor": 2
}
