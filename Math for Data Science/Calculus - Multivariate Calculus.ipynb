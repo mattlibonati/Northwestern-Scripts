{
 "cells": [
  {
   "cell_type": "code",
   "execution_count": 1,
   "metadata": {},
   "outputs": [],
   "source": [
    "from sympy import *\n",
    "import numpy as np\n",
    "import matplotlib.pyplot as plt\n",
    "from matplotlib.pyplot import *\n",
    "\n",
    "from scipy.optimize import *\n",
    "import math"
   ]
  },
  {
   "cell_type": "markdown",
   "metadata": {},
   "source": [
    "# Relative Maximum"
   ]
  },
  {
   "cell_type": "markdown",
   "metadata": {},
   "source": [
    "#### Question 1 "
   ]
  },
  {
   "cell_type": "markdown",
   "metadata": {},
   "source": [
    "The total revenue​ (in hundreds of​ dollars) from the sale of x spas and y solar heaters is approximated by\n",
    "<br>R(x,y)=18 + 276x + 198y - 7x^2 - 4y^2 - 5xy\n",
    "<br>Find the number of each that should be sold to produce maximum revenue. Find the maximum revenue."
   ]
  },
  {
   "cell_type": "code",
   "execution_count": 2,
   "metadata": {},
   "outputs": [],
   "source": [
    "x = Symbol('x')\n",
    "y = Symbol('y')"
   ]
  },
  {
   "cell_type": "code",
   "execution_count": 3,
   "metadata": {},
   "outputs": [
    {
     "name": "stdout",
     "output_type": "stream",
     "text": [
      "R(x,y): -x**2 + 2*x - y**2 + 8*y\n"
     ]
    }
   ],
   "source": [
    "r = -x**2 - y**2 +2*x + 8*y\n",
    "R = lambdify([x,y],r,'numpy')\n",
    "print('R(x,y):', r)"
   ]
  },
  {
   "cell_type": "code",
   "execution_count": 4,
   "metadata": {},
   "outputs": [
    {
     "name": "stdout",
     "output_type": "stream",
     "text": [
      "Rx: 2 - 2*x\n",
      "Rxx: -2\n",
      "\n",
      "Ry: 8 - 2*y\n",
      "Ryy: -2\n",
      "\n",
      "Rxy: 0\n"
     ]
    }
   ],
   "source": [
    "rx = diff(r, x)\n",
    "print('Rx:',rx)\n",
    "rxx = diff(rx, x)\n",
    "Rxx = lambdify([x,y],rxx,'numpy')\n",
    "print('Rxx:',rxx)\n",
    "\n",
    "ry = diff(r, y)\n",
    "print('\\nRy:',ry)\n",
    "ryy = diff(ry, y)\n",
    "Ryy = lambdify([x,y],ryy,'numpy')\n",
    "print('Ryy:',ryy)\n",
    "\n",
    "rxy = diff(rx, y)\n",
    "Rxy = lambdify([x,y],rxy,'numpy')\n",
    "print('\\nRxy:',rxy)\n"
   ]
  },
  {
   "cell_type": "code",
   "execution_count": 35,
   "metadata": {},
   "outputs": [
    {
     "data": {
      "text/plain": [
       "array([14., 16.])"
      ]
     },
     "execution_count": 35,
     "metadata": {},
     "output_type": "execute_result"
    }
   ],
   "source": [
    "# make first derivates = 6 and create matrix to be solved with linear algebra \n",
    "coefficients = np.matrix([[14, 5],\n",
    "                          [5, 8]])\n",
    "constants    = np.array([276, 198])\n",
    "intersection = np.linalg.solve(coefficients,constants)\n",
    "intersection"
   ]
  },
  {
   "cell_type": "code",
   "execution_count": 36,
   "metadata": {},
   "outputs": [
    {
     "data": {
      "text/latex": [
       "$\\displaystyle 87$"
      ],
      "text/plain": [
       "87"
      ]
     },
     "execution_count": 36,
     "metadata": {},
     "output_type": "execute_result"
    }
   ],
   "source": [
    "# Second derivative test\n",
    "rxx*ryy-rxy**2"
   ]
  },
  {
   "cell_type": "code",
   "execution_count": 39,
   "metadata": {},
   "outputs": [
    {
     "data": {
      "text/plain": [
       "353400"
      ]
     },
     "execution_count": 39,
     "metadata": {},
     "output_type": "execute_result"
    }
   ],
   "source": [
    "# Total Revue from 14 units x and 16 units y\n",
    "R(14,16)*100"
   ]
  },
  {
   "cell_type": "markdown",
   "metadata": {},
   "source": [
    "# Cobb Douglass Function"
   ]
  },
  {
   "cell_type": "markdown",
   "metadata": {},
   "source": [
    "The​ Cobb-Douglas production function for a particular product is \n",
    "<br>N(x,y) = 80x^0.6 * y^0.4\n",
    "<br>here x is the number of units of labor and y is the number of units of capital required to produce N(x, y) units of the product. Each unit of labor costs 60 dollars and each unit of capital costs 100 dollars."
   ]
  },
  {
   "cell_type": "code",
   "execution_count": 40,
   "metadata": {},
   "outputs": [],
   "source": [
    "x = Symbol('x')\n",
    "y = Symbol('y')\n",
    "L = Symbol('L')"
   ]
  },
  {
   "cell_type": "code",
   "execution_count": 44,
   "metadata": {},
   "outputs": [],
   "source": [
    "# Lagrangian Function\n",
    "fl = 80*(x**.6)*(y**.4) - L*60*x - L*100*y + L*500000"
   ]
  },
  {
   "cell_type": "code",
   "execution_count": 46,
   "metadata": {},
   "outputs": [
    {
     "name": "stdout",
     "output_type": "stream",
     "text": [
      "fx: -60*L + 48.0*x**(-0.4)*y**0.4\n",
      "fy: -100*L + 32.0*x**0.6*y**(-0.6)\n",
      "fL: -60*x - 100*y + 500000\n"
     ]
    }
   ],
   "source": [
    "# First Partial Derivatives of Lagrangian Function\n",
    "fx = diff(fl, x)\n",
    "print('fx:',fx)\n",
    "\n",
    "fy = diff(fl, y)\n",
    "print('fy:',fy)\n",
    "\n",
    "fL = diff(fl, L)\n",
    "print('fL:',fL)\n"
   ]
  },
  {
   "cell_type": "code",
   "execution_count": 47,
   "metadata": {},
   "outputs": [
    {
     "data": {
      "text/latex": [
       "$\\displaystyle \\frac{4 y^{0.4}}{5 x^{0.4}}$"
      ],
      "text/plain": [
       "4*x**(-0.4)*y**0.4/5"
      ]
     },
     "execution_count": 47,
     "metadata": {},
     "output_type": "execute_result"
    }
   ],
   "source": [
    "# critical point 1 \n",
    "(48*(x**-.4)*(y**.4))/60"
   ]
  },
  {
   "cell_type": "code",
   "execution_count": 48,
   "metadata": {},
   "outputs": [
    {
     "data": {
      "text/latex": [
       "$\\displaystyle \\frac{8 x^{0.6}}{25 y^{0.6}}$"
      ],
      "text/plain": [
       "8*x**0.6*y**(-0.6)/25"
      ]
     },
     "execution_count": 48,
     "metadata": {},
     "output_type": "execute_result"
    }
   ],
   "source": [
    "# critical point 2\n",
    "(32*(x**.6)*(y**-.6))/100"
   ]
  },
  {
   "cell_type": "code",
   "execution_count": 51,
   "metadata": {},
   "outputs": [
    {
     "data": {
      "text/plain": [
       "250.0"
      ]
     },
     "execution_count": 51,
     "metadata": {},
     "output_type": "execute_result"
    }
   ],
   "source": [
    "60*(5/2) + 100"
   ]
  },
  {
   "cell_type": "code",
   "execution_count": 52,
   "metadata": {},
   "outputs": [
    {
     "data": {
      "text/plain": [
       "2000.0"
      ]
     },
     "execution_count": 52,
     "metadata": {},
     "output_type": "execute_result"
    }
   ],
   "source": [
    "500000/250"
   ]
  },
  {
   "cell_type": "markdown",
   "metadata": {},
   "source": [
    "### Functions with more than 1 input"
   ]
  },
  {
   "cell_type": "code",
   "execution_count": 2,
   "metadata": {},
   "outputs": [],
   "source": [
    "x = Symbol('x')\n",
    "y = Symbol('y')"
   ]
  },
  {
   "cell_type": "code",
   "execution_count": 3,
   "metadata": {},
   "outputs": [],
   "source": [
    "function_u = 6*x-9*y+2\n",
    "function = lambdify([x,y],function_u,'numpy')"
   ]
  },
  {
   "cell_type": "code",
   "execution_count": 4,
   "metadata": {},
   "outputs": [
    {
     "data": {
      "text/plain": [
       "-52"
      ]
     },
     "execution_count": 4,
     "metadata": {},
     "output_type": "execute_result"
    }
   ],
   "source": [
    "function(0,6)"
   ]
  },
  {
   "cell_type": "markdown",
   "metadata": {},
   "source": [
    "#### Problem 3"
   ]
  },
  {
   "cell_type": "code",
   "execution_count": 5,
   "metadata": {},
   "outputs": [],
   "source": [
    "w = Symbol('w')\n",
    "r = Symbol('r')\n",
    "a = Symbol('a')"
   ]
  },
  {
   "cell_type": "code",
   "execution_count": 6,
   "metadata": {},
   "outputs": [],
   "source": [
    "function_u = 41 - 1.73*w-1.26*r-1.32*a\n",
    "function = lambdify([w,r,a],function_u,'numpy')"
   ]
  },
  {
   "cell_type": "code",
   "execution_count": 7,
   "metadata": {},
   "outputs": [
    {
     "data": {
      "text/plain": [
       "16.910000000000004"
      ]
     },
     "execution_count": 7,
     "metadata": {},
     "output_type": "execute_result"
    }
   ],
   "source": [
    "function(3,15,0)"
   ]
  },
  {
   "cell_type": "markdown",
   "metadata": {},
   "source": [
    "### Problem 6"
   ]
  },
  {
   "cell_type": "code",
   "execution_count": 8,
   "metadata": {},
   "outputs": [],
   "source": [
    "s = Symbol('s')\n",
    "n = Symbol('n')\n",
    "a = Symbol('a')"
   ]
  },
  {
   "cell_type": "code",
   "execution_count": 9,
   "metadata": {},
   "outputs": [
    {
     "data": {
      "text/latex": [
       "$\\displaystyle 0.076 a + 4 \\left(n s\\right)^{0.5}$"
      ],
      "text/plain": [
       "0.076*a + 4*(n*s)**0.5"
      ]
     },
     "execution_count": 9,
     "metadata": {},
     "output_type": "execute_result"
    }
   ],
   "source": [
    "function_u = 0.076*a + (4*(s*n)**(1/2))\n",
    "function = lambdify([s,n,a],function_u,'numpy')\n",
    "function_u"
   ]
  },
  {
   "cell_type": "code",
   "execution_count": 10,
   "metadata": {},
   "outputs": [
    {
     "data": {
      "text/plain": [
       "63.432812921102034"
      ]
     },
     "execution_count": 10,
     "metadata": {},
     "output_type": "execute_result"
    }
   ],
   "source": [
    "function(8,6,470)"
   ]
  },
  {
   "cell_type": "code",
   "execution_count": 11,
   "metadata": {
    "scrolled": true
   },
   "outputs": [
    {
     "data": {
      "text/plain": [
       "31.49685424949238"
      ]
     },
     "execution_count": 11,
     "metadata": {},
     "output_type": "execute_result"
    }
   ],
   "source": [
    "function(2,1,340)"
   ]
  },
  {
   "cell_type": "markdown",
   "metadata": {},
   "source": [
    "f_n = partial derivative with respect to n"
   ]
  },
  {
   "cell_type": "code",
   "execution_count": 16,
   "metadata": {
    "scrolled": false
   },
   "outputs": [
    {
     "data": {
      "text/latex": [
       "$\\displaystyle 0.076$"
      ],
      "text/plain": [
       "0.0760000000000000"
      ]
     },
     "execution_count": 16,
     "metadata": {},
     "output_type": "execute_result"
    }
   ],
   "source": [
    "partial_deriv_u = diff(function_u, a)\n",
    "partial_deriv = lambdify([n,s],partial_deriv_u,'numpy')\n",
    "partial_deriv_u"
   ]
  },
  {
   "cell_type": "code",
   "execution_count": 17,
   "metadata": {},
   "outputs": [
    {
     "data": {
      "text/plain": [
       "0.076"
      ]
     },
     "execution_count": 17,
     "metadata": {},
     "output_type": "execute_result"
    }
   ],
   "source": [
    "partial_deriv(1,2)"
   ]
  },
  {
   "cell_type": "code",
   "execution_count": 20,
   "metadata": {},
   "outputs": [
    {
     "data": {
      "text/plain": [
       "2.8284271247461903"
      ]
     },
     "execution_count": 20,
     "metadata": {},
     "output_type": "execute_result"
    }
   ],
   "source": [
    "2*(2**(1/2))"
   ]
  },
  {
   "cell_type": "markdown",
   "metadata": {},
   "source": [
    "### Problem 7"
   ]
  },
  {
   "cell_type": "code",
   "execution_count": 26,
   "metadata": {},
   "outputs": [
    {
     "data": {
      "text/plain": [
       "array([-6.,  3.])"
      ]
     },
     "execution_count": 26,
     "metadata": {},
     "output_type": "execute_result"
    }
   ],
   "source": [
    "coefficients = np.matrix([[6, 1],\n",
    "                          [1, 2]])\n",
    "constants    = np.array([-33, 0])\n",
    "intersection = np.linalg.solve(coefficients1,constants1)\n",
    "intersection"
   ]
  },
  {
   "cell_type": "code",
   "execution_count": 79,
   "metadata": {},
   "outputs": [
    {
     "data": {
      "text/plain": [
       "array([ 3.,  5., -2.])"
      ]
     },
     "execution_count": 79,
     "metadata": {},
     "output_type": "execute_result"
    }
   ],
   "source": [
    "coefficients = np.matrix([[6, -4,-1],\n",
    "                          [-4, 2, -1],\n",
    "                          [1,1, 0]])\n",
    "constants    = np.array([0, 0,8])\n",
    "intersection = np.linalg.solve(coefficients,constants)\n",
    "intersection"
   ]
  },
  {
   "cell_type": "markdown",
   "metadata": {},
   "source": [
    "### Problem 9 - System of nonlinear equations"
   ]
  },
  {
   "cell_type": "code",
   "execution_count": 73,
   "metadata": {},
   "outputs": [],
   "source": [
    "def myFunction(z):\n",
    "    x = z[0]\n",
    "    y = z[1]\n",
    "    \n",
    "    f = [0,0]\n",
    "    f[0] = 4*x**3 -32*y\n",
    "    f[1] = -32*x - 64*y**3\n",
    "    \n",
    "    return f"
   ]
  },
  {
   "cell_type": "code",
   "execution_count": 74,
   "metadata": {},
   "outputs": [],
   "source": [
    "zGuess = np.array([80,80])"
   ]
  },
  {
   "cell_type": "code",
   "execution_count": 75,
   "metadata": {},
   "outputs": [],
   "source": [
    "z = fsolve(myFunction,zGuess)"
   ]
  },
  {
   "cell_type": "code",
   "execution_count": 76,
   "metadata": {},
   "outputs": [
    {
     "name": "stdout",
     "output_type": "stream",
     "text": [
      "[0. 0.]\n"
     ]
    }
   ],
   "source": [
    "print(z)"
   ]
  },
  {
   "cell_type": "code",
   "execution_count": 86,
   "metadata": {},
   "outputs": [],
   "source": [
    "r = 1.5\n",
    "h = 15\n",
    "dr = .09\n",
    "dh = .18"
   ]
  },
  {
   "cell_type": "code",
   "execution_count": 87,
   "metadata": {},
   "outputs": [
    {
     "data": {
      "text/plain": [
       "13.995795271742526"
      ]
     },
     "execution_count": 87,
     "metadata": {},
     "output_type": "execute_result"
    }
   ],
   "source": [
    "2*math.pi*r*h*dr+math.pi*r**2*dh"
   ]
  },
  {
   "cell_type": "code",
   "execution_count": 95,
   "metadata": {},
   "outputs": [],
   "source": [
    "l = 4\n",
    "r = 2.5\n",
    "p = 0.08"
   ]
  },
  {
   "cell_type": "code",
   "execution_count": 96,
   "metadata": {},
   "outputs": [],
   "source": [
    "v_t_b = math.pi*r**2*p"
   ]
  },
  {
   "cell_type": "code",
   "execution_count": 97,
   "metadata": {},
   "outputs": [],
   "source": [
    "v_s = 2*math.pi*r*l*p"
   ]
  },
  {
   "cell_type": "code",
   "execution_count": 98,
   "metadata": {},
   "outputs": [
    {
     "data": {
      "text/plain": [
       "8.168140899333462"
      ]
     },
     "execution_count": 98,
     "metadata": {},
     "output_type": "execute_result"
    }
   ],
   "source": [
    "2*v_t_b+v_s"
   ]
  }
 ],
 "metadata": {
  "kernelspec": {
   "display_name": "Python 3",
   "language": "python",
   "name": "python3"
  },
  "language_info": {
   "codemirror_mode": {
    "name": "ipython",
    "version": 3
   },
   "file_extension": ".py",
   "mimetype": "text/x-python",
   "name": "python",
   "nbconvert_exporter": "python",
   "pygments_lexer": "ipython3",
   "version": "3.7.4"
  }
 },
 "nbformat": 4,
 "nbformat_minor": 2
}
