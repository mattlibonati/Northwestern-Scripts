{
 "cells": [
  {
   "cell_type": "code",
   "execution_count": 25,
   "metadata": {},
   "outputs": [],
   "source": [
    "import matplotlib.pyplot \n",
    "from matplotlib.pyplot import *\n",
    "import numpy as np\n",
    "from scipy.optimize import linprog\n",
    "import math\n",
    "\n",
    "# settings\n",
    "np.set_printoptions(suppress=True, linewidth=100)\n",
    "\n",
    "from pulp import LpVariable, LpProblem, LpMaximize, LpStatus, value, LpMinimize"
   ]
  },
  {
   "cell_type": "code",
   "execution_count": 31,
   "metadata": {},
   "outputs": [],
   "source": [
    "def print_rows(a,b,c,d):\n",
    "    temp = np.concatenate((a,b,c,d), axis =0)\n",
    "    print(temp)"
   ]
  },
  {
   "cell_type": "markdown",
   "metadata": {},
   "source": [
    "# Maximize\n",
    "<br>z = 3*x1 + 2*x2 + x3\n",
    "<br>Contraints: \n",
    "<br>2 * x1 + x2 + x3 <= 150\n",
    "<br>x1 + 2 * x2 + 8 * x3 <= 200\n",
    "<br>2 * x1 + 3 * x2 + x3 <= 320\n",
    "<br>With: \n",
    "<br>x1 -- x3 nonnegative "
   ]
  },
  {
   "cell_type": "code",
   "execution_count": 7,
   "metadata": {
    "scrolled": true
   },
   "outputs": [
    {
     "name": "stdout",
     "output_type": "stream",
     "text": [
      "Simplex Tableau:\n",
      "   x1  x2  x3  s1  s2  s3   z\n",
      "[[  2   1   1   1   0   0   0 150]\n",
      " [  1   2   8   0   1   0   0 200]\n",
      " [  2   3   1   0   0   1   0 320]\n",
      " [ -3  -2  -1   0   0   0   1   0]]\n",
      "\n",
      "Simplex Tableau - Pivotted:\n",
      "   x1  x2  x3  s1  s2  s3   z\n",
      "[[  2   1   1   1   0   0   0 150]\n",
      " [  0   3  15  -1   2   0   0 250]\n",
      " [  0   2   0  -1   0   1   0 170]\n",
      " [  0  -1   1   3   0   0   2 450]]\n",
      "\n",
      "Final Simplex Tableau:\n",
      "    x1    x2    x3    s1    s2    s3    z\n",
      "[[  1.    0.5   0.5   0.5   0.    0.    0.   75. ]\n",
      " [  0.    1.5   7.5  -0.5   1.    0.    0.  125. ]\n",
      " [  0.    2.    0.   -1.    0.    1.    0.  170. ]\n",
      " [  0.   -0.5   0.5   1.5   0.    0.    1.  225. ]]\n"
     ]
    }
   ],
   "source": [
    "# Long form\n",
    "\n",
    "\n",
    "# Create Simplex Tableau Matrix \n",
    "column_headings = '   x1  x2  x3  s1  s2  s3   z'\n",
    "R1 = np.array([[2 ,1 ,1 ,1 ,0 ,0 ,0 ,150]])\n",
    "R2 = np.array([[1 ,2 ,8 ,0 ,1 ,0 ,0 ,200]])\n",
    "R3 = np.array([[2 ,3 ,1 ,0 ,0 ,1 ,0 ,320]])\n",
    "# indicators are negative to fulfill: -x1-x2-x3+z=0\n",
    "R4 = np.array([[-3 ,-2 ,-1 ,0 ,0 ,0 ,1 ,  0]]) \n",
    "print(\"Simplex Tableau:\")\n",
    "print(column_headings)\n",
    "print_rows(R1,R2,R3,R4)\n",
    "\n",
    "\n",
    "# Pivot\n",
    "# column 1 because most negative indicator\n",
    "# row 1 because 150/2 yields smallest nonnegative real integer in column\n",
    "R2 = -R1 + 2*R2\n",
    "R3 = -R1 + R3\n",
    "R4 = 3*R1 +2*R4\n",
    "print(\"\\nSimplex Tableau - Pivotted:\")\n",
    "print(column_headings)\n",
    "print_rows(R1,R2,R3,R4)\n",
    "\n",
    "\n",
    "# Simplify Pivot\n",
    "R1 = 0.5*R1\n",
    "R2 = 0.5*R2\n",
    "R4 = 0.5*R4\n",
    "print(\"\\nFinal Simplex Tableau:\")\n",
    "column_headings = '    x1    x2    x3    s1    s2    s3    z'\n",
    "print(column_headings)\n",
    "print_rows(R1,R2,R3,R4)"
   ]
  },
  {
   "cell_type": "markdown",
   "metadata": {},
   "source": [
    "# Maximize\n",
    "<br> Maximize: \n",
    "<br> z = 5x1 + x2\n",
    "<br> Subject To: \n",
    "<br> 4x1 + 2x2 <= 8\n",
    "<br>  x1 + 2x2 <= 4\n",
    "<br> With x1 & x2 >= 0"
   ]
  },
  {
   "cell_type": "code",
   "execution_count": 29,
   "metadata": {},
   "outputs": [
    {
     "name": "stdout",
     "output_type": "stream",
     "text": [
      "Simplex Tableau:\n",
      "   x1 x2 s1 s2 z\n",
      "[[ 4  2  1  0  0  8]\n",
      " [ 1  2  0  1  0  4]\n",
      " [-5 -1  0  0  1  0]]\n",
      "\n",
      "Simplex Tableau - Pivotted:\n",
      "   x1 x2 s1 s2 z\n",
      "[[ 4.    2.    1.    0.    0.    8.  ]\n",
      " [ 0.    1.5  -0.25  1.    0.    2.  ]\n",
      " [ 0.    1.5   1.25  0.    1.   10.  ]]\n"
     ]
    }
   ],
   "source": [
    "# Create Simplex Tableau Matrix \n",
    "column_headings = '   x1 x2 s1 s2 z'\n",
    "R1 = np.array([[4 ,2 ,1 ,0 ,0 ,8]])\n",
    "R2 = np.array([[1 ,2 ,0 ,1 ,0 ,4]])\n",
    "# indicators are negative to fulfill: -x1-x2-x3+z=0\n",
    "R3 = np.array([[-5 ,-1 ,0 ,0 ,1 ,  0]]) \n",
    "print(\"Simplex Tableau:\")\n",
    "print(column_headings)\n",
    "print_rows(R1,R2,R3)\n",
    "\n",
    "# Pivot\n",
    "# column 1 because most negative indicator\n",
    "# row 1 because 8/4 yields smallest nonnegative real integer in column\n",
    "R2 = R2 - (1/4)*R1\n",
    "R3 = R3 + (5/4)*R1\n",
    "print(\"\\nSimplex Tableau - Pivotted:\")\n",
    "print(column_headings)\n",
    "print_rows(R1,R2,R3)"
   ]
  },
  {
   "cell_type": "markdown",
   "metadata": {},
   "source": [
    "# Minimization"
   ]
  },
  {
   "cell_type": "code",
   "execution_count": 21,
   "metadata": {
    "collapsed": true
   },
   "outputs": [
    {
     "name": "stdout",
     "output_type": "stream",
     "text": [
      "Simplex Tableau:\n",
      "[[  2.5   5.    1.    0.    0.    0.    6. ]\n",
      " [  4.5   3.    0.    1.    0.    0.    9. ]\n",
      " [  5.   10.    0.    0.    1.    0.   10. ]\n",
      " [-60.  -66.    0.    0.    0.    1.    0. ]]\n",
      "\n",
      "Simplex Tableau - Pivotted:\n",
      "[[  0.    0.    1.    0.   -0.5   0.    1. ]\n",
      " [  3.    0.    0.    1.   -0.3   0.    6. ]\n",
      " [  5.   10.    0.    0.    1.    0.   10. ]\n",
      " [-27.    0.    0.    0.    6.6   1.   66. ]]\n",
      "\n",
      "Simplex Tableau - Pivotted - 2:\n",
      "[[  0.    0.    1.    0.   -0.5   0.    1. ]\n",
      " [  0.    0.    0.    9.    3.9   1.  120. ]\n",
      " [  5.   10.    0.    0.    1.    0.   10. ]\n",
      " [  0.   54.    0.    0.   12.    1.  120. ]]\n",
      "\n",
      " 12 units of s2 for 120 total\n"
     ]
    }
   ],
   "source": [
    "# Create Simplex Tableau Matrix \n",
    "R1 = np.array([[  2.5,   5,   1, 0, 0, 0,  6]])\n",
    "R2 = np.array([[  4.5,   3,   0, 1, 0, 0,  9]])\n",
    "R3 = np.array([[    5,  10,   0, 0, 1, 0, 10]])\n",
    "R4 = np.array([[  -60, -66,   0, 0, 0, 1,  0]])\n",
    "print(\"Simplex Tableau:\")\n",
    "print_rows(R1,R2,R3,R4)\n",
    "\n",
    "# Pivot column 2 Column row 3\n",
    "R1 = R1 - .5*R3\n",
    "R2 = R2 - (3/10)*R3\n",
    "R4 = R4 + (66/10)*R3\n",
    "\n",
    "print(\"\\nSimplex Tableau - Pivotted:\")\n",
    "print_rows(R1,R2,R3,R4)\n",
    "\n",
    "# Pivot column 1 row 3\n",
    "R2 = (27/3)*R2 + R4\n",
    "R4 = R4 + (27/5)*R3\n",
    "print(\"\\nSimplex Tableau - Pivotted - 2:\")\n",
    "print_rows(R1,R2,R3,R4)\n",
    "\n",
    "print(\"\\n 12 units of s2 for 120 total\")"
   ]
  },
  {
   "cell_type": "code",
   "execution_count": 22,
   "metadata": {
    "collapsed": true
   },
   "outputs": [
    {
     "name": "stdout",
     "output_type": "stream",
     "text": [
      "Simplex Tableau:\n",
      "[[  2.5   5.    1.    0.    0.    0.    6. ]\n",
      " [  4.5   3.    0.    1.    0.    0.    9. ]\n",
      " [  5.   10.    0.    0.    1.    0.   10. ]\n",
      " [-60.  -66.    0.    0.    0.    1.    0. ]]\n",
      "\n",
      "Simplex Tableau - Pivotted:\n",
      "[[  0.    0.    1.    0.   -0.5   0.    1. ]\n",
      " [  3.    0.    0.    1.   -0.3   0.    6. ]\n",
      " [  5.   10.    0.    0.    1.    0.   10. ]\n",
      " [-27.    0.    0.    0.    6.6   1.   66. ]]\n",
      "\n",
      "x1,x2,s1,s2,s3,z\n",
      "Simplex Tableau - Pivotted - 2:\n",
      "[[  0.           0.           1.           0.          -0.5          0.           1.        ]\n",
      " [  3.           0.           0.           1.          -0.3          0.           6.        ]\n",
      " [  0.          10.           0.          -1.66666667   1.5          0.           0.        ]\n",
      " [  0.           0.           0.           9.           3.9          1.         120.        ]]\n",
      "\n",
      "9 units of s2, 3.9 units of s3 as 120 total\n"
     ]
    }
   ],
   "source": [
    "# Slack variables and interpretation\n",
    "def print_rows(a,b,c,d):\n",
    "    temp = np.concatenate((a,b,c,d), axis =0)\n",
    "    print(temp)\n",
    "\n",
    "# Create Simplex Tableau Matrix \n",
    "R1 = np.array([[  2.5,   5,   1, 0, 0, 0,  6]])\n",
    "R2 = np.array([[  4.5,   3,   0, 1, 0, 0,  9]])\n",
    "R3 = np.array([[    5,  10,   0, 0, 1, 0, 10]])\n",
    "R4 = np.array([[  -60, -66,   0, 0, 0, 1,  0]])\n",
    "print(\"Simplex Tableau:\")\n",
    "print_rows(R1,R2,R3,R4)\n",
    "\n",
    "# Pivot column 2 Column row 3\n",
    "R1 = R1 - .5*R3\n",
    "R2 = R2 - (3/10)*R3\n",
    "R4 = R4 + (66/10)*R3\n",
    "\n",
    "print(\"\\nSimplex Tableau - Pivotted:\")\n",
    "print_rows(R1,R2,R3,R4)\n",
    "\n",
    "# Pivot column 1 row 2\n",
    "R3 = R3 - (5/3)*R2\n",
    "R4 = R4 + (27/3)*R2\n",
    "print(\"\\nx1,x2,s1,s2,s3,z\")\n",
    "print(\"Simplex Tableau - Pivotted - 2:\")\n",
    "print_rows(R1,R2,R3,R4)\n",
    "\n",
    "print(\"\\n9 units of s2, 3.9 units of s3 as 120 total\")"
   ]
  },
  {
   "cell_type": "markdown",
   "metadata": {},
   "source": [
    "# Pivotting Slack Variables"
   ]
  },
  {
   "cell_type": "code",
   "execution_count": 32,
   "metadata": {},
   "outputs": [
    {
     "name": "stdout",
     "output_type": "stream",
     "text": [
      "Simplex Tableau:\n",
      "   x1 x2 s1 s2 z\n",
      "[[ 2  2  1  1  0  0  0 11]\n",
      " [ 1  2  3  0  1  0  0 45]\n",
      " [ 3  1  1  0  0  1  0 18]\n",
      " [-2 -1 -3  0  0  0  1  0]]\n",
      "\n",
      "Simplex Tableau - Pivotted:\n",
      "   x1 x2 s1 s2 z\n",
      "[[ 2  2  1  1  0  0  0 11]\n",
      " [-5 -4  0 -3  1  0  0 12]\n",
      " [ 1 -1  0 -1  0  1  0  7]\n",
      " [ 4  5  0  3  0  0  1 33]]\n"
     ]
    }
   ],
   "source": [
    "# Create Simplex Tableau Matrix \n",
    "R1 = np.array([[2 ,2 ,1 ,1 ,0, 0 ,0 ,11]])\n",
    "R2 = np.array([[1 ,2 ,3 ,0 ,1, 0 ,0 ,45]])\n",
    "R3 = np.array([[3 ,1 ,1 ,0 ,0, 1 ,0 ,18]])\n",
    "# indicators are negative to fulfill: -x1-x2-x3+z=0\n",
    "R4 = np.array([[-2 ,-1 ,-3 ,0 ,0, 0 ,1 ,0]]) \n",
    "print(\"Simplex Tableau:\")\n",
    "print(column_headings)\n",
    "print_rows(R1,R2,R3,R4)\n",
    "\n",
    "# Pivot column 3 row 1\n",
    "R2 -= 3*R1\n",
    "R3 -=   R1\n",
    "R4 += 3*R1\n",
    "print(\"\\nSimplex Tableau - Pivotted:\")\n",
    "print(column_headings)\n",
    "print_rows(R1,R2,R3,R4)"
   ]
  }
 ],
 "metadata": {
  "kernelspec": {
   "display_name": "Python 3",
   "language": "python",
   "name": "python3"
  },
  "language_info": {
   "codemirror_mode": {
    "name": "ipython",
    "version": 3
   },
   "file_extension": ".py",
   "mimetype": "text/x-python",
   "name": "python",
   "nbconvert_exporter": "python",
   "pygments_lexer": "ipython3",
   "version": "3.7.4"
  }
 },
 "nbformat": 4,
 "nbformat_minor": 2
}
