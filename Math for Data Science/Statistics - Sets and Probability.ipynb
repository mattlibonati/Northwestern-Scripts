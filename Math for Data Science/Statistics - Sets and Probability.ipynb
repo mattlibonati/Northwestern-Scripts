{
 "cells": [
  {
   "cell_type": "code",
   "execution_count": 1,
   "metadata": {},
   "outputs": [],
   "source": [
    "import numpy as np"
   ]
  },
  {
   "cell_type": "markdown",
   "metadata": {},
   "source": [
    "# Probability"
   ]
  },
  {
   "cell_type": "markdown",
   "metadata": {},
   "source": [
    "#### Questions 1"
   ]
  },
  {
   "cell_type": "code",
   "execution_count": 2,
   "metadata": {},
   "outputs": [
    {
     "name": "stdout",
     "output_type": "stream",
     "text": [
      "Total:  [74024 24386]\n",
      "Corps 1 selection probability:  0.2762\n",
      "Corps 2 selection probability:  0.3160\n",
      "Corps 3 selection probability:  0.3160\n",
      "Cavalry selection probability:  0.0919\n",
      "\n",
      "Corps 1 loss probability:  0.3723\n",
      "Corps 2 loss probability:  0.3534\n",
      "Corps 3 loss probability:  0.3534\n",
      "Cavalry loss probability:  0.0356\n",
      "Army loss probability:  0.3294\n"
     ]
    }
   ],
   "source": [
    "#                   Size, Losses\n",
    "corps1  = np.array([20442,7610])\n",
    "corps2  = np.array([23390,8267])\n",
    "corps3  = np.array([23390,8267])\n",
    "cavalry = np.array([6802,242])\n",
    "total = corps1 + corps2 + corps3 + cavalry\n",
    "print('Total: ',total)\n",
    "\n",
    "# selection probability\n",
    "print('Corps 1 selection probability: ', '{:.4f}'.format(corps1[0]/total[0]))\n",
    "print('Corps 2 selection probability: ', '{:.4f}'.format(corps2[0]/total[0]))\n",
    "print('Corps 3 selection probability: ', '{:.4f}'.format(corps3[0]/total[0]))\n",
    "print('Cavalry selection probability: ', '{:.4f}'.format(cavalry[0]/total[0]))\n",
    "# loss probabiltiy\n",
    "print('\\nCorps 1 loss probability: ', '{:.4f}'.format(corps1[1]/corps1[0]))\n",
    "print('Corps 2 loss probability: ', '{:.4f}'.format(corps2[1]/corps2[0]))\n",
    "print('Corps 3 loss probability: ', '{:.4f}'.format(corps3[1]/corps3[0]))\n",
    "print('Cavalry loss probability: ', '{:.4f}'.format(cavalry[1]/cavalry[0]))\n",
    "print('Army loss probability: ', '{:.4f}'.format(total[1]/total[0]))"
   ]
  },
  {
   "cell_type": "markdown",
   "metadata": {},
   "source": [
    "#### Question 2"
   ]
  },
  {
   "cell_type": "markdown",
   "metadata": {},
   "source": [
    "A survey asking mobile phone users how long they would wait for a page to load found the following results. Find the probabilities that a person would wait the following amounts."
   ]
  },
  {
   "cell_type": "code",
   "execution_count": 3,
   "metadata": {
    "scrolled": true
   },
   "outputs": [
    {
     "name": "stdout",
     "output_type": "stream",
     "text": [
      "Probability wait no more than 10 seconds: 0.5100\n",
      "Probability wait at least 6 seconds: 0.7800\n",
      "Probability wait between 6 and 20 seconds: 0.6600\n",
      "Probability wait between 1 and 15 seconds: 0.6500\n"
     ]
    }
   ],
   "source": [
    "# time   %pct\n",
    "lt_1   = 0.05\n",
    "_1_5   = 0.17\n",
    "_6_10  = 0.29\n",
    "_11_15 = 0.19\n",
    "_16_20 = 0.18\n",
    "gt_20  = 0.12\n",
    "\n",
    "print('Probability wait no more than 10 seconds:', '{:.4f}'.format(lt_1 + _1_5 + _6_10))\n",
    "print('Probability wait at least 6 seconds:', '{:.4f}'.format(_6_10 + _11_15 + _16_20 + gt_20))\n",
    "print('Probability wait between 6 and 20 seconds:', '{:.4f}'.format(_6_10 + _11_15 + _16_20))\n",
    "print('Probability wait between 1 and 15 seconds:', '{:.4f}'.format(_1_5 + _6_10 + _11_15))"
   ]
  },
  {
   "cell_type": "markdown",
   "metadata": {},
   "source": [
    "#### Question 3"
   ]
  },
  {
   "cell_type": "markdown",
   "metadata": {},
   "source": [
    "There are seven geologic faults​ (and possibly​ more) capable of generating a magnitude 6.7 earthquake in the region around a certain city. Their probabilities of rupturing by the year 2032 are: \n",
    "23%, 19%, 11%, 10%, 4%, 3%, and 3%. "
   ]
  },
  {
   "cell_type": "code",
   "execution_count": 4,
   "metadata": {},
   "outputs": [
    {
     "name": "stdout",
     "output_type": "stream",
     "text": [
      "Eruption Probabilities: [0.23 0.19 0.11 0.1  0.04 0.03 0.03]\n",
      "No eruption Probabilities: [0.77 0.81 0.89 0.9  0.96 0.97 0.97]\n",
      "Zero eruption Probability: 0.4513 \n",
      "At least one eruption_probability: 0.5487\n"
     ]
    }
   ],
   "source": [
    "# probability at least one fault erupts, these are independent events.\n",
    "erupt_prob = np.array([0.23,0.19,0.11,0.10,0.04,0.03,0.03])\n",
    "print('Eruption Probabilities:', erupt_prob)\n",
    "not_erupt_prob = 1 - erupt_prob\n",
    "print('No eruption Probabilities:', not_erupt_prob)\n",
    "zero_eruptions_prob = np.prod(not_erupt_prob)\n",
    "eruption_probability = 1 - zero_eruptions_prob\n",
    "print('Zero eruption Probability:', '{:.4f}'.format(zero_eruptions_prob)\n",
    "      ,'\\nAt least one eruption_probability:', '{:.4f}'.format(eruption_probability))"
   ]
  },
  {
   "cell_type": "markdown",
   "metadata": {},
   "source": [
    "# Probability Tree"
   ]
  },
  {
   "cell_type": "markdown",
   "metadata": {},
   "source": [
    "#### Question 1"
   ]
  },
  {
   "cell_type": "markdown",
   "metadata": {},
   "source": [
    "A study showed that 64.4% of occupants involved in a fatal car crash wore seat belts. Of those in a fatal car crash who wore seat belts, 2% were ejected from the vehicle. For those not wearing seat belts, 39% were ejected from the vehicle."
   ]
  },
  {
   "cell_type": "code",
   "execution_count": 5,
   "metadata": {},
   "outputs": [
    {
     "name": "stdout",
     "output_type": "stream",
     "text": [
      "Probability ejeceted when wearing seat belt: 0.0849\n",
      "Probability not ejeceted when not wearing seat belt: 0.2560\n"
     ]
    }
   ],
   "source": [
    "# Probability a randomly selected person in a fatal car crash who was ejected from the vehicle was wearing a seatbelt\n",
    "x = (0.644*0.02)\n",
    "y = (0.356*0.39)\n",
    "prob = x/(x+y)\n",
    "print('Probability ejeceted when wearing seat belt:','{:.4f}'.format(prob))\n",
    "\n",
    "# Probability a randomly selected person in a fatal car crash not ejected not wearing a seatbelt\n",
    "x = (0.356*0.61)\n",
    "y = (0.644*0.98)\n",
    "prob = x/(x+y)\n",
    "print('Probability not ejeceted when not wearing seat belt:','{:.4f}'.format(prob))"
   ]
  },
  {
   "cell_type": "markdown",
   "metadata": {},
   "source": [
    " #### Question 2"
   ]
  },
  {
   "cell_type": "markdown",
   "metadata": {},
   "source": [
    "A blood test indicates the presence of a particular disease 98% of the time when the disease is actually present. The same test indicates the presence of the disease 0.6% of the time when the disease is not present. One percent of the population actually has the disease. Calculate the probability that a person has the​ disease, given that the test indicates the presence of the disease."
   ]
  },
  {
   "cell_type": "code",
   "execution_count": 2,
   "metadata": {},
   "outputs": [
    {
     "name": "stdout",
     "output_type": "stream",
     "text": [
      "Probability ejeceted when wearing seat belt: 0.6226\n"
     ]
    }
   ],
   "source": [
    "# Probability person has disease given postivive test\n",
    "x = (0.01*0.98) # has disease\n",
    "y = (0.99*0.006) # does not have diseas\n",
    "prob = x/(x+y)\n",
    "print('Probability person who has disease tests positive:','{:.4f}'.format(prob))"
   ]
  },
  {
   "cell_type": "markdown",
   "metadata": {},
   "source": [
    "#### Question 3\n",
    "Otitis media, or middle ear infection, is initially treated with an antibiotic. Researchers have compared two antibiotics, A and B, for their cost effectiveness. A is inexpensive, safe, and effective. B is also safe. However, it is considerably more expensive and it is generally more effective. Use the tree diagram to the right (where the costs are estimated as the total cost of medication, office visit, ear check, and hours of lost work) to answer the following."
   ]
  },
  {
   "attachments": {
    "Prob%20tree%201.PNG": {
     "image/png": "[encoded data removed]"
    }
   },
   "cell_type": "markdown",
   "metadata": {},
   "source": [
    "![Prob%20tree%201.PNG](attachment:Prob%20tree%201.PNG)"
   ]
  },
  {
   "cell_type": "markdown",
   "metadata": {},
   "source": [
    "Find the expected cost of using each antibiotic to treat a middle ear infection."
   ]
  },
  {
   "cell_type": "code",
   "execution_count": 22,
   "metadata": {},
   "outputs": [
    {
     "name": "stdout",
     "output_type": "stream",
     "text": [
      "Expected Costs:\n",
      "A: 75.88 \n",
      "B: 74.68\n"
     ]
    }
   ],
   "source": [
    "exp_cost_A = (0.55*59.30) + (0.45*96.15)\n",
    "exp_cost_B = (0.85*69.15) + (0.15*106)\n",
    "\n",
    "print('Expected Costs:\\nA:','{:.2f}'.format(exp_cost_A),'\\nB:','{:.2f}'.format(exp_cost_B))"
   ]
  },
  {
   "cell_type": "markdown",
   "metadata": {},
   "source": [
    "# Probability with Factorial"
   ]
  },
  {
   "cell_type": "code",
   "execution_count": 8,
   "metadata": {},
   "outputs": [],
   "source": [
    "import math"
   ]
  },
  {
   "cell_type": "markdown",
   "metadata": {},
   "source": [
    "#### Question 1\n",
    "Eight names are put on a ballot in a randomly selected order. What is the probability that they are not in alphabetical order?"
   ]
  },
  {
   "cell_type": "code",
   "execution_count": 9,
   "metadata": {},
   "outputs": [
    {
     "name": "stdout",
     "output_type": "stream",
     "text": [
      "Total number of ways names can be arranged: 40320\n",
      "Probability names not in alphabetical order: 0.9999751984126984\n"
     ]
    }
   ],
   "source": [
    "# number of ways names can be listed:\n",
    "n = math.factorial(8)\n",
    "print('Total number of ways names can be arranged:',n)\n",
    "# names listed not alphabetically \n",
    "n_1 = n - 1\n",
    "print('Probability names not in alphabetical order:', n_1/n)"
   ]
  },
  {
   "cell_type": "markdown",
   "metadata": {},
   "source": [
    "# Binomial Probability"
   ]
  },
  {
   "cell_type": "markdown",
   "metadata": {},
   "source": [
    "Binomial Probability:\n",
    "<br> P(x successes in n trials) = C(n,x) * P**x * (1-p)**(n-x) "
   ]
  },
  {
   "cell_type": "code",
   "execution_count": 19,
   "metadata": {},
   "outputs": [],
   "source": [
    "def possibilities(_n,_r):\n",
    "\n",
    "    n = math.factorial(_n)\n",
    "    r = math.factorial(_r)\n",
    "    n_r = math.factorial(_n-_r)\n",
    "\n",
    "    possible_delegations = n/(n_r*r)\n",
    "  \n",
    "    return possible_delegations"
   ]
  },
  {
   "cell_type": "markdown",
   "metadata": {},
   "source": [
    "#### Question 1\n",
    "According to a survey, 21.6% of credit-card-holding families in a certain area hardly ever pay off the balance. Suppose a random sample of 20 credit-card-holding families is taken. Find the probability that at least 4 families hardly ever pay off the balance."
   ]
  },
  {
   "cell_type": "code",
   "execution_count": 20,
   "metadata": {
    "scrolled": true
   },
   "outputs": [
    {
     "name": "stdout",
     "output_type": "stream",
     "text": [
      "Probability less than 4 families hardly every pay: 0.6554\n"
     ]
    }
   ],
   "source": [
    "# first identify a success - family that hardly ever pays off the balance\n",
    "p = 0.216      # probability of success\n",
    "p_fail = 1 - p # probability of failure\n",
    "n = 20         # number of trials\n",
    "\n",
    "# find the complement of finding the event that k is less than 4\n",
    "# probabilities that 0,1,2, and 3 families never pay off\n",
    "x = 0\n",
    "p_0 = possibilities(n,x)*(p**x)*((p_fail)**(n-x))\n",
    "x = 1\n",
    "p_1 = possibilities(n,x)*(p**x)*((p_fail)**(n-x))\n",
    "x = 2\n",
    "p_2 = possibilities(n,x)*(p**x)*((p_fail)**(n-x))\n",
    "x = 3 \n",
    "p_3 = possibilities(n,x)*(p**x)*((p_fail)**(n-x))\n",
    "\n",
    "# proababliy 4 families hardly ever pay\n",
    "binomial_probability = 1 - p_0-p_1-p_2-p_3\n",
    "\n",
    "print('Probability less than 4 families hardly every pay:', '{:.4f}'.format(binomial_probability))"
   ]
  },
  {
   "cell_type": "markdown",
   "metadata": {},
   "source": [
    "#### Question 2\n",
    "A recent study found that 82% of breast-cancer cases are detectable by mammogram. Suppose a random sample of 14 women with breast cancer are given mammograms. Find the probability that all of the cases are detectable, assuming that detection in the cases is independent."
   ]
  },
  {
   "cell_type": "code",
   "execution_count": 21,
   "metadata": {},
   "outputs": [
    {
     "name": "stdout",
     "output_type": "stream",
     "text": [
      "Probability all 14 cases are dectectable: 0.0621\n"
     ]
    }
   ],
   "source": [
    "# binomial probability variables \n",
    "p      = 0.82   # probability of success\n",
    "p_fail = 1 - p  # probability of failure\n",
    "n      = 14     # number of trials\n",
    "x      = 14     # number of successes\n",
    "\n",
    "# calculate binomial probability\n",
    "binomial_probability = possibilities(n,x)*(p**x)*((p_fail)**(n-x))\n",
    "\n",
    "print('Probability all 14 cases are dectectable:', '{:.4f}'.format(binomial_probability))"
   ]
  },
  {
   "cell_type": "markdown",
   "metadata": {},
   "source": [
    "# Bayes Thoerem for Probabiliy"
   ]
  },
  {
   "cell_type": "markdown",
   "metadata": {},
   "source": [
    "Suppose a box contains 5 red and 5 blue balls. A ball is selected at random and removed, without observing its color. The box now contains either 5 red and 4 blue balls or 4 red and 5 blue balls. "
   ]
  },
  {
   "cell_type": "markdown",
   "metadata": {},
   "source": [
    "​(a) Nate removes a ball at random from the​ box, observes its​ color, and puts the ball back. He performs this experiment a total of 6 ​times, and each time the ball is blue. What is the probability that a red ball was initially removed from the​ box? (Hint: Use​ Bayes' Theorem.)"
   ]
  },
  {
   "attachments": {
    "Bayes%20Theorem.PNG": {
     "image/png": "[encoded data removed]"
    }
   },
   "cell_type": "markdown",
   "metadata": {},
   "source": [
    "![Bayes%20Theorem.PNG](attachment:Bayes%20Theorem.PNG)"
   ]
  },
  {
   "cell_type": "code",
   "execution_count": 30,
   "metadata": {},
   "outputs": [
    {
     "name": "stdout",
     "output_type": "stream",
     "text": [
      "The probability that a red ball was initially removed is \n",
      "P(A) 0.5\n",
      "P(A') 0.5\n",
      "\n",
      "Probability blue ball was chosen given red ball was initially chosen P(B|A) 0.5555555555555556\n",
      "\n",
      "Probability blue ball was chosen given blue ball was initially chosen P(B|A') 0.4444444444444444\n",
      "\n",
      "The probability red ball initially chosen given blue ball chosen 6 times: 0.7923026215709144\n"
     ]
    }
   ],
   "source": [
    "red_balls = 5\n",
    "blue_balls = 5\n",
    "\n",
    "p_a = red_balls/(red_balls+blue_balls) # 5 red, 10 balls in total\n",
    "print('The probability that a red ball was initially removed is','\\nP(A)',p_a)\n",
    "p_A = 1 - p_a\n",
    "print(\"P(A')\",p_A)\n",
    "\n",
    "# probability blue ball was chosen given red ball was initially chosen\n",
    "n_e = 5    # number of blue balls \n",
    "n_s = 9    # sum of red & blue less 1 red\n",
    "\n",
    "p_b_of_a = n_e/n_s\n",
    "print('\\nProbability blue ball was chosen given red ball was initially chosen P(B|A)',p_b_of_a)\n",
    "\n",
    "n_e = 4    # number of blue balls \n",
    "n_s = 9    # sum of red & blue less 1 red\n",
    "\n",
    "p_b_of_A = n_e/n_s\n",
    "print(\"\\nProbability blue ball was chosen given blue ball was initially chosen P(B|A')\",p_b_of_A)\n",
    "\n",
    "# blue ball chosen 6 times therefore raise each prob to the 6th power \n",
    "bayes_theorem = (p_a * p_b_of_a**6)/((p_a * p_b_of_a**6)+(p_A*p_b_of_A**6)) \n",
    "print('\\nThe probability red ball initially chosen given blue ball chosen 6 times:',bayes_theorem)"
   ]
  },
  {
   "cell_type": "markdown",
   "metadata": {},
   "source": [
    "(b) Ray removes a ball at random from the​ box, observes its​ color, and puts the ball back. He performs this experiment a total 82 times. Out of​ these, the ball was blue 47 times and red 35 times. What is the probability that a red ball was initially removed from the​ box"
   ]
  },
  {
   "cell_type": "code",
   "execution_count": 35,
   "metadata": {},
   "outputs": [
    {
     "name": "stdout",
     "output_type": "stream",
     "text": [
      "The probability that a red ball was initially removed is \n",
      "P(A) 0.5\n",
      "P(A') 0.5\n",
      "\n",
      "Probability blue ball was chosen given red ball was initially chosen P(B|A) 0.5555555555555556\n",
      "\n",
      "Probability blue ball was chosen given blue ball was initially chosen P(B|A') 0.4444444444444444\n",
      "\n",
      "The probability red ball initially chosen given blue ball chosen times: 0.9356992379835\n"
     ]
    }
   ],
   "source": [
    "red_balls = 5\n",
    "blue_balls = 5\n",
    "\n",
    "p_a = red_balls/(red_balls+blue_balls) # 5 red, 10 balls in total\n",
    "print('The probability that a red ball was initially removed is','\\nP(A)',p_a)\n",
    "p_A = 1 - p_a\n",
    "print(\"P(A')\",p_A)\n",
    "\n",
    "# probability blue ball was chosen given red ball was initially chosen\n",
    "n_e = blue_balls                  # number of blue balls \n",
    "n_s = (red_balls+blue_balls)- 1   # sum of red & blue less 1 red\n",
    "\n",
    "p_b_of_a = n_e/n_s\n",
    "print('\\nProbability blue ball was chosen given red ball was initially chosen P(B|A)',p_b_of_a)\n",
    "\n",
    "n_e = blue_balls             - 1    # number of blue balls \n",
    "n_s = (red_balls+blue_balls) - 1    # sum of red & blue less 1 red\n",
    "\n",
    "p_b_of_A = n_e/n_s\n",
    "print(\"\\nProbability blue ball was chosen given blue ball was initially chosen P(B|A')\",p_b_of_A)\n",
    "\n",
    "# blue ball chosen 6 times therefore raise each prob to the 6th power \n",
    "bayes_theorem = (p_a * p_b_of_a**47 * p_b_of_A**35 )/((p_a * p_b_of_a**47 * p_b_of_A**35)+(p_A * p_b_of_A**47 * p_b_of_a**35)) \n",
    "print('\\nThe probability red ball initially chosen given blue ball chosen times:',bayes_theorem)"
   ]
  },
  {
   "cell_type": "markdown",
   "metadata": {},
   "source": [
    "Ray's Experiment is more accurate becuase performed more times."
   ]
  },
  {
   "cell_type": "code",
   "execution_count": null,
   "metadata": {},
   "outputs": [],
   "source": []
  }
 ],
 "metadata": {
  "kernelspec": {
   "display_name": "Python 3",
   "language": "python",
   "name": "python3"
  },
  "language_info": {
   "codemirror_mode": {
    "name": "ipython",
    "version": 3
   },
   "file_extension": ".py",
   "mimetype": "text/x-python",
   "name": "python",
   "nbconvert_exporter": "python",
   "pygments_lexer": "ipython3",
   "version": "3.7.4"
  }
 },
 "nbformat": 4,
 "nbformat_minor": 2
}
