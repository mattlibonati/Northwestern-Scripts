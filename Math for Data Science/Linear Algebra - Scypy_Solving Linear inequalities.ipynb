{
 "cells": [
  {
   "cell_type": "markdown",
   "metadata": {},
   "source": [
    "I understand this method least."
   ]
  },
  {
   "cell_type": "code",
   "execution_count": 6,
   "metadata": {},
   "outputs": [],
   "source": [
    "import numpy as np\n",
    "from scipy.optimize import linprog\n",
    "import math\n",
    "\n",
    "# settings\n",
    "np.set_printoptions(suppress=True, linewidth=100)"
   ]
  },
  {
   "cell_type": "code",
   "execution_count": 7,
   "metadata": {},
   "outputs": [
    {
     "name": "stdout",
     "output_type": "stream",
     "text": [
      "Solved using linprog:\n",
      " Status: Optimization terminated successfully. \n",
      "Maximize: 23.99999999799815 \n",
      " [2. 0.]\n"
     ]
    }
   ],
   "source": [
    "# Maximization Function\n",
    "z = [-12,-5]\n",
    "# Coefficients\n",
    "a = [[4,2],\n",
    "     [1,3]]\n",
    "# Constants\n",
    "b = [8,3]\n",
    "#---------------------------------------------------------------------------\n",
    "# linprog\n",
    "method = 'simplex'\n",
    "res = linprog(z, A_ub=a, b_ub=b,bounds=(0, None))\n",
    "print(\"Solved using linprog:\\n\", \"Status:\", res.message, '\\nMaximize:',\n",
    "     -res.fun,\n",
    "     '\\n',res.x)"
   ]
  },
  {
   "cell_type": "markdown",
   "metadata": {},
   "source": [
    "# Minimize Profits"
   ]
  },
  {
   "cell_type": "code",
   "execution_count": 8,
   "metadata": {},
   "outputs": [
    {
     "name": "stdout",
     "output_type": "stream",
     "text": [
      "Solved using linprog:\n",
      " Status: Optimization terminated successfully. \n",
      "Maximize: 106999.99995734471 \n",
      " [ 499.99999878 4000.00000007    0.00000017]\n"
     ]
    }
   ],
   "source": [
    "# Maximization Function\n",
    "z = [-38,-22,-12]\n",
    "# Coefficients\n",
    "a = [[1000, 600, 300],\n",
    "     [   4,   2,   2],\n",
    "     [  10,   5,   5],\n",
    "     [   2,   1,   1]]\n",
    "# Constants\n",
    "b = [2900000,10000,25000,6500]\n",
    "\n",
    "method = 'simplex'\n",
    "res = linprog(z, A_ub=a, b_ub=b,bounds=(0, None))\n",
    "print(\"Solved using linprog:\\n\", \"Status:\", res.message, '\\nMaximize:',\n",
    "     -res.fun,\n",
    "     '\\n',res.x)"
   ]
  }
 ],
 "metadata": {
  "kernelspec": {
   "display_name": "Python 3",
   "language": "python",
   "name": "python3"
  },
  "language_info": {
   "codemirror_mode": {
    "name": "ipython",
    "version": 3
   },
   "file_extension": ".py",
   "mimetype": "text/x-python",
   "name": "python",
   "nbconvert_exporter": "python",
   "pygments_lexer": "ipython3",
   "version": "3.7.4"
  }
 },
 "nbformat": 4,
 "nbformat_minor": 2
}
