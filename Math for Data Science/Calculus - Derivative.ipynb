{
 "cells": [
  {
   "cell_type": "code",
   "execution_count": 1,
   "metadata": {},
   "outputs": [],
   "source": [
    "from sympy import *\n",
    "import numpy as np"
   ]
  },
  {
   "cell_type": "markdown",
   "metadata": {},
   "source": [
    "# Derivative"
   ]
  },
  {
   "cell_type": "markdown",
   "metadata": {},
   "source": [
    "#### Derivative function"
   ]
  },
  {
   "cell_type": "code",
   "execution_count": 11,
   "metadata": {},
   "outputs": [
    {
     "name": "stdout",
     "output_type": "stream",
     "text": [
      "F(X)= x**3 - 2*x**2 + 5*x + 40\n"
     ]
    },
    {
     "data": {
      "text/latex": [
       "$\\displaystyle 3 x^{2} - 4 x + 5$"
      ],
      "text/plain": [
       "3*x**2 - 4*x + 5"
      ]
     },
     "execution_count": 11,
     "metadata": {},
     "output_type": "execute_result"
    }
   ],
   "source": [
    "def derivative(f_x):\n",
    "    x = Symbol('x')\n",
    "    derivative = f_x.diff(x)\n",
    "   \n",
    "    print('F(X)=',f_x)\n",
    "    \n",
    "    return derivative\n",
    "    \n",
    "derivative((x**3)-(2*x**2)+(5*x)+40)"
   ]
  },
  {
   "cell_type": "markdown",
   "metadata": {},
   "source": [
    "#### Logarithmic Derivative"
   ]
  },
  {
   "cell_type": "code",
   "execution_count": 12,
   "metadata": {
    "scrolled": true
   },
   "outputs": [
    {
     "name": "stdout",
     "output_type": "stream",
     "text": [
      "F(X)= log(x)\n"
     ]
    },
    {
     "data": {
      "text/latex": [
       "$\\displaystyle \\frac{1}{x}$"
      ],
      "text/plain": [
       "1/x"
      ]
     },
     "execution_count": 12,
     "metadata": {},
     "output_type": "execute_result"
    }
   ],
   "source": [
    "derivative(log(x))"
   ]
  },
  {
   "cell_type": "markdown",
   "metadata": {},
   "source": [
    "Apply derivative to range of values"
   ]
  },
  {
   "cell_type": "code",
   "execution_count": 8,
   "metadata": {
    "scrolled": true
   },
   "outputs": [
    {
     "name": "stdout",
     "output_type": "stream",
     "text": [
      "\n",
      "Output:\n",
      "[    5     4     9    20    37    60    89   124   165   212   265   324\n",
      "   389   460   537   620   709   804   905  1012  1125  1244  1369  1500\n",
      "  1637  1780  1929  2084  2245  2412  2585  2764  2949  3140  3337  3540\n",
      "  3749  3964  4185  4412  4645  4884  5129  5380  5637  5900  6169  6444\n",
      "  6725  7012  7305  7604  7909  8220  8537  8860  9189  9524  9865 10212\n",
      " 10565 10924 11289 11660 12037 12420 12809 13204 13605 14012 14425]\n"
     ]
    }
   ],
   "source": [
    "# Specify Range \n",
    "xrange = np.arange(0,71,1)\n",
    "# initialize x\n",
    "x = Symbol('x')\n",
    "# total cost \n",
    "tc = (x**3)-(2*x**2)+(5*x)+40\n",
    "# marginal cost\n",
    "tc_prime = tc.diff(x)\n",
    "\n",
    "# create function from marginal cost\n",
    "calc_marginal_cost = lambdify(x,tc_prime,'numpy')\n",
    "# apply function to specified range of x\n",
    "output = calc_marginal_cost(xrange)\n",
    "print(f'\\nOutput:\\n{output}')"
   ]
  },
  {
   "cell_type": "markdown",
   "metadata": {},
   "source": [
    "# Instantanious Rate of Change "
   ]
  },
  {
   "cell_type": "markdown",
   "metadata": {},
   "source": [
    "#### Question 1"
   ]
  },
  {
   "cell_type": "markdown",
   "metadata": {},
   "source": [
    "The projected population of a certain ethnic​ group(in millions) can be approximated by ​p(t) = 36.85(1.022)^t where t=0 corresponds to 2000 and 0<=t<=50.\n",
    "<br>\n",
    "<br>a. Estimate the population of this group for the year 2010.\n",
    "<br>b. What is the instantaneous rate of change of the population when tequals​10?"
   ]
  },
  {
   "cell_type": "code",
   "execution_count": 3,
   "metadata": {},
   "outputs": [],
   "source": [
    "def instantanious_roc(f_n,t0,t1):\n",
    "    x = Symbol('x')\n",
    "    \n",
    "    function = lambdify(x,f_n,'numpy')\n",
    "       \n",
    "    derivative = diff(f_n,x)\n",
    "    derivative_F = lambdify(x,derivative,'numpy')\n",
    "    \n",
    "    return function(t1-t0), derivative_F(t1-t0)"
   ]
  },
  {
   "cell_type": "code",
   "execution_count": 5,
   "metadata": {
    "scrolled": true
   },
   "outputs": [
    {
     "data": {
      "text/plain": [
       "49.73454234546257"
      ]
     },
     "execution_count": 5,
     "metadata": {},
     "output_type": "execute_result"
    }
   ],
   "source": [
    "x = Symbol('x')\n",
    "estimated_total = instantanious_roc(109-80*(E)**(-0.3*x),0,1)[0]\n",
    "estimated_total\n",
    "\n",
    "# interpreted as The the estimated total pop in 2010 = 45.808 million"
   ]
  },
  {
   "cell_type": "code",
   "execution_count": 13,
   "metadata": {},
   "outputs": [
    {
     "data": {
      "text/plain": [
       "5.355123843562316"
      ]
     },
     "execution_count": 13,
     "metadata": {},
     "output_type": "execute_result"
    }
   ],
   "source": [
    "instantanious_r = instantanious_roc(109-80*(E)**(-0.3*x),0,5)[1]\n",
    "instantanious_r\n",
    "\n",
    "# interpreted as The instantanious roc when t=10 is 0.997 millions per year"
   ]
  },
  {
   "cell_type": "markdown",
   "metadata": {},
   "source": [
    "#### Question 2 "
   ]
  },
  {
   "cell_type": "markdown",
   "metadata": {},
   "source": [
    "Since the creation of a social​ program, the percent of persons 65 years and over with a family income below the poverty level has declined. The percent can be approximated by the function ​P(t) = 30.91 - 5.94 * ln(t), where t is the number of years since 1965."
   ]
  },
  {
   "cell_type": "markdown",
   "metadata": {},
   "source": [
    "#### a. \n",
    "Find the percent of persons 65 years and over with family income below the poverty level and the rate of change in 1970."
   ]
  },
  {
   "cell_type": "code",
   "execution_count": 110,
   "metadata": {},
   "outputs": [
    {
     "name": "stdout",
     "output_type": "stream",
     "text": [
      "21.349938800141445\n",
      "-1.1880000000000002\n"
     ]
    }
   ],
   "source": [
    "x = Symbol('x')\n",
    "fn = 30.91-5.94*log(x)\n",
    "\n",
    "function = lambdify(x,fn,'numpy')\n",
    "\n",
    "print(function(5))\n",
    "# interpreted as 21.35% \n",
    "\n",
    "derivative = diff(fn,x)\n",
    "derivative_F = lambdify(x,derivative,'numpy')\n",
    "print(derivative_F(5))\n",
    "# interpreted as -1.188% "
   ]
  },
  {
   "cell_type": "markdown",
   "metadata": {},
   "source": [
    "#### b. \n",
    "Find the percent of persons 65 years and over with family income below the poverty level and the rate of change in 1990.\n",
    "The percent of persons 65 years and over with family income below the poverty level in 1990 was \n",
    "?​%."
   ]
  },
  {
   "cell_type": "code",
   "execution_count": 112,
   "metadata": {},
   "outputs": [
    {
     "data": {
      "text/plain": [
       "11.789877600282889"
      ]
     },
     "execution_count": 112,
     "metadata": {},
     "output_type": "execute_result"
    }
   ],
   "source": [
    "estimated_total = instantanious_roc(30.91-5.94*log(x),1965,1990)[0]\n",
    "estimated_total"
   ]
  },
  {
   "cell_type": "code",
   "execution_count": 113,
   "metadata": {},
   "outputs": [
    {
     "data": {
      "text/plain": [
       "-0.2376"
      ]
     },
     "execution_count": 113,
     "metadata": {},
     "output_type": "execute_result"
    }
   ],
   "source": [
    "instantanious_r = instantanious_roc(30.91-5.94*log(x),1965,1990)[1]\n",
    "instantanious_r"
   ]
  },
  {
   "cell_type": "markdown",
   "metadata": {},
   "source": [
    "#### c. \n",
    "Find the percent of persons 65 years and over with family income below the poverty level and the rate of change in 2010."
   ]
  },
  {
   "cell_type": "code",
   "execution_count": 114,
   "metadata": {},
   "outputs": [
    {
     "data": {
      "text/plain": [
       "8.298424810764299"
      ]
     },
     "execution_count": 114,
     "metadata": {},
     "output_type": "execute_result"
    }
   ],
   "source": [
    "estimated_total = instantanious_roc(30.91-5.94*log(x),1965,2010)[0]\n",
    "estimated_total"
   ]
  },
  {
   "cell_type": "code",
   "execution_count": 115,
   "metadata": {},
   "outputs": [
    {
     "data": {
      "text/plain": [
       "-0.132"
      ]
     },
     "execution_count": 115,
     "metadata": {},
     "output_type": "execute_result"
    }
   ],
   "source": [
    "instantanious_r = instantanious_roc(30.91-5.94*log(x),1965,2010)[1]\n",
    "instantanious_r"
   ]
  },
  {
   "cell_type": "markdown",
   "metadata": {},
   "source": [
    "#### Rate of change over time approaches 0"
   ]
  }
 ],
 "metadata": {
  "kernelspec": {
   "display_name": "Python 3",
   "language": "python",
   "name": "python3"
  },
  "language_info": {
   "codemirror_mode": {
    "name": "ipython",
    "version": 3
   },
   "file_extension": ".py",
   "mimetype": "text/x-python",
   "name": "python",
   "nbconvert_exporter": "python",
   "pygments_lexer": "ipython3",
   "version": "3.7.4"
  }
 },
 "nbformat": 4,
 "nbformat_minor": 2
}
