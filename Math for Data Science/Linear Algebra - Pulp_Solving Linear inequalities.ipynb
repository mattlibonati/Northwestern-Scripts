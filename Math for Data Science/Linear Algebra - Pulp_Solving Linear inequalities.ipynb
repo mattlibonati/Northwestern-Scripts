{
 "cells": [
  {
   "cell_type": "code",
   "execution_count": 1,
   "metadata": {},
   "outputs": [],
   "source": [
    "import matplotlib.pyplot \n",
    "from matplotlib.pyplot import *\n",
    "import numpy as np\n",
    "import math\n",
    "\n",
    "# settings\n",
    "np.set_printoptions(suppress=True, linewidth=100)\n",
    "\n",
    "from pulp import LpVariable, LpProblem, LpMaximize, LpStatus, value, LpMinimize"
   ]
  },
  {
   "cell_type": "markdown",
   "metadata": {},
   "source": [
    "### Question 5: Minimize costs\n",
    "             Policy A  Policy B\n",
    "Fire/Theft         10000     15000\n",
    "<br>Liability     180000    120000 \n",
    "<br>Premium           50        40\n",
    "<br>\n",
    "<br> Manimize: \n",
    "<br> w = 50x + 40y\n",
    "<br> Subject To: \n",
    "<br> 10000x + 15000y >= 450000\n",
    "<br> 180000x + 120000y >= 5400000\n",
    "<br> With x & y >= 0"
   ]
  },
  {
   "cell_type": "code",
   "execution_count": 2,
   "metadata": {},
   "outputs": [
    {
     "name": "stdout",
     "output_type": "stream",
     "text": [
      "\n",
      "Pulp Solution for x1 and x2\n",
      "45.0\n",
      "0.0\n"
     ]
    }
   ],
   "source": [
    "# Pulp\n",
    "x1 = LpVariable(\"x1\", 0, None) # x1>=0\n",
    "x2 = LpVariable(\"x2\", 0, None) # x2>=0\n",
    "\n",
    "# defines the problem\n",
    "prob = LpProblem(\"problem\", LpMinimize)\n",
    "\n",
    "# defines the constraints\n",
    "prob +=  10000*x1 +  15000*x2 >=  450000\n",
    "prob += 180000*x1 + 120000*x2 >= 5400000\n",
    "\n",
    "# defines the objective function to maximize\n",
    "prob += 25*x1 + 40*x2\n",
    "\n",
    "# solve the problem\n",
    "status = prob.solve()\n",
    "LpStatus[status]\n",
    "\n",
    "# print the results\n",
    "print(\"\\nPulp Solution for x1 and x2\")\n",
    "print(value(x1))\n",
    "print(value(x2))"
   ]
  },
  {
   "cell_type": "markdown",
   "metadata": {},
   "source": [
    "### Question 6: Minimize costs\n",
    "\n",
    "<br> Minimize: \n",
    "<br> w = .30x1 + .60x2\n",
    "<br> Subject To: \n",
    "<br> 120x1 + 30x2 >= 240 vitamin A\n",
    "<br>   1x1 +  1x2 >=   5 vitamin B\n",
    "<br>  30x1 + 40x2 >= 180 vitamin C\n",
    "<br> With x1 & x2 >= 0"
   ]
  },
  {
   "cell_type": "code",
   "execution_count": 3,
   "metadata": {},
   "outputs": [
    {
     "name": "stdout",
     "output_type": "stream",
     "text": [
      "\n",
      "Pulp Solution for x1 and x2\n",
      "6.0\n",
      "0.0\n",
      "\n",
      "Surplus: \n",
      "c1 Diff =  480 \n",
      "c2 Diff =  1 \n",
      "C3 Diff =  0\n"
     ]
    }
   ],
   "source": [
    "# Pulp\n",
    "x1 = LpVariable(\"x1\", 0, None) # x1>=0\n",
    "x2 = LpVariable(\"x2\", 0, None) # x2>=0\n",
    "\n",
    "# defines the problem\n",
    "prob = LpProblem(\"problem\", LpMinimize)\n",
    "\n",
    "# defines the constraints\n",
    "prob +=  120*x1 +  30*x2 >=  240\n",
    "prob +=      x1 +     x2 >=    5\n",
    "prob +=   30*x1 +  40*x2 >=  180\n",
    "\n",
    "# defines the objective function to maximize\n",
    "prob += 0.30*x1 + 0.60*x2\n",
    "\n",
    "# solve the problem\n",
    "status = prob.solve()\n",
    "LpStatus[status]\n",
    "\n",
    "# print the results\n",
    "print(\"\\nPulp Solution for x1 and x2\")\n",
    "print(value(x1))\n",
    "print(value(x2))\n",
    "\n",
    "# Surplus \n",
    "c1, c2, c3 = 240, 5, 180\n",
    "act1, act2, act3 = 120*6, 1*6, 30* 6\n",
    "print('\\nSurplus:',\n",
    "      '\\nc1 Diff = ', act1-c1,\n",
    "      '\\nc2 Diff = ', act2-c2,\n",
    "      '\\nC3 Diff = ', act3-c3)"
   ]
  }
 ],
 "metadata": {
  "kernelspec": {
   "display_name": "Python 3",
   "language": "python",
   "name": "python3"
  },
  "language_info": {
   "codemirror_mode": {
    "name": "ipython",
    "version": 3
   },
   "file_extension": ".py",
   "mimetype": "text/x-python",
   "name": "python",
   "nbconvert_exporter": "python",
   "pygments_lexer": "ipython3",
   "version": "3.7.4"
  }
 },
 "nbformat": 4,
 "nbformat_minor": 2
}
