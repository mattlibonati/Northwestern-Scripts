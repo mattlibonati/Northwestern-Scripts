{
 "cells": [
  {
   "cell_type": "markdown",
   "metadata": {},
   "source": [
    "Fundamental Theorem of Calculus: The area under a curve is equal to the difference in antiderivatives at two points."
   ]
  },
  {
   "cell_type": "markdown",
   "metadata": {},
   "source": [
    "Something that every student or individual with long demanding hours at their job can relate to is how our attention and productivity deteriorates over time when working on homework, a project, or in a meeting. This is also known as decreasing marginal productivity because our productivity decreases at an increasing rate with each additional consecutive minute. To demonstrate the effect, productivity is set to the arbitrary equation: SQRT(x/2) where x = time in minutes. The following Python script analyzes how our marginal productivity changes with respect to 20 minute intervals of a 100 minute timespan. "
   ]
  },
  {
   "cell_type": "code",
   "execution_count": 1,
   "metadata": {},
   "outputs": [],
   "source": [
    "from sympy import *\n",
    "import numpy as np\n",
    "import matplotlib.pyplot as plt\n",
    "from matplotlib.pyplot import *"
   ]
  },
  {
   "cell_type": "code",
   "execution_count": 2,
   "metadata": {
    "scrolled": true
   },
   "outputs": [
    {
     "data": {
      "text/latex": [
       "$\\displaystyle - \\frac{6004799503160661}{9007199254740992}$"
      ],
      "text/plain": [
       "-6004799503160661/9007199254740992"
      ]
     },
     "execution_count": 2,
     "metadata": {},
     "output_type": "execute_result"
    }
   ],
   "source": [
    "Rational(-2/3)"
   ]
  },
  {
   "cell_type": "code",
   "execution_count": 31,
   "metadata": {},
   "outputs": [
    {
     "data": {
      "text/plain": [
       "{'divide': 'ignore', 'over': 'warn', 'under': 'ignore', 'invalid': 'ignore'}"
      ]
     },
     "execution_count": 31,
     "metadata": {},
     "output_type": "execute_result"
    }
   ],
   "source": [
    "# set up variables \n",
    "x = Symbol('x')\n",
    "xrange = np.arange(0,100,1)\n",
    "# used for dividing by 0 error in xrange within chart\n",
    "np.seterr(divide='ignore', invalid='ignore')"
   ]
  },
  {
   "cell_type": "code",
   "execution_count": 32,
   "metadata": {},
   "outputs": [],
   "source": [
    "# productivitve function \n",
    "productivity = (sqrt(x/2))\n",
    "# productivitve function - lambdify\n",
    "productivity_fn = lambdify(x,productivity,'numpy')\n",
    "# marginal productivity function\n",
    "marginal_productivity = productivity.diff(x)\n",
    "# marginal productivity function - - lambdify\n",
    "marginal_productivity_fn = lambdify(x,productivity.diff(x),'numpy')"
   ]
  },
  {
   "cell_type": "code",
   "execution_count": 34,
   "metadata": {},
   "outputs": [
    {
     "name": "stdout",
     "output_type": "stream",
     "text": [
      "Marginal Productivity:\n"
     ]
    },
    {
     "data": {
      "text/latex": [
       "$\\displaystyle \\frac{\\sqrt{2}}{4 \\sqrt{x}}$"
      ],
      "text/plain": [
       "sqrt(2)/(4*sqrt(x))"
      ]
     },
     "execution_count": 34,
     "metadata": {},
     "output_type": "execute_result"
    }
   ],
   "source": [
    "print('Marginal Productivity:')\n",
    "productivity.diff(x)"
   ]
  },
  {
   "cell_type": "code",
   "execution_count": 35,
   "metadata": {
    "scrolled": true
   },
   "outputs": [
    {
     "name": "stdout",
     "output_type": "stream",
     "text": [
      "Productivity:\n"
     ]
    },
    {
     "data": {
      "text/latex": [
       "$\\displaystyle \\frac{\\sqrt{2} \\sqrt{x}}{2}$"
      ],
      "text/plain": [
       "sqrt(2)*sqrt(x)/2"
      ]
     },
     "execution_count": 35,
     "metadata": {},
     "output_type": "execute_result"
    }
   ],
   "source": [
    "print('Productivity:')\n",
    "integrate(marginal_productivity)"
   ]
  },
  {
   "cell_type": "code",
   "execution_count": 36,
   "metadata": {},
   "outputs": [
    {
     "name": "stdout",
     "output_type": "stream",
     "text": [
      "Minutes 0 - 20: 3.1622776601683795\n",
      "Minutes 20 - 40: 1.3098582948312\n",
      "Minutes 40 - 60: 1.0050896200520825\n",
      "Minutes 60 - 80: 0.847329745285097\n",
      "Minutes 80 - 100: 0.7465124915287165\n"
     ]
    },
    {
     "data": {
      "image/png": "[encoded data removed]",
      "text/plain": [
       "<Figure size 432x288 with 2 Axes>"
      ]
     },
     "metadata": {
      "needs_background": "light"
     },
     "output_type": "display_data"
    }
   ],
   "source": [
    "x  = xrange \n",
    "y0 = np.arange(0,10,0.1)\n",
    "y  = productivity_fn(xrange)\n",
    "y1 = marginal_productivity_fn(xrange)\n",
    "\n",
    "# set up 20 minute interval bounds\n",
    "b0   = 0+0.0*y0\n",
    "b20  = 20+0.0*y0\n",
    "b40  = 40+0.0*y0\n",
    "b60  = 60+0.0*y0\n",
    "b80  = 80+0.0*y0\n",
    "b100 = 100+0.0*y0\n",
    "\n",
    "fig, ax1 = plt.subplots()\n",
    "\n",
    "# total productivity \n",
    "color = 'tab:red'\n",
    "ax1.set_xlabel('Minutes Worked')\n",
    "ax1.set_ylabel('Output', color=color)\n",
    "ax1.plot(x, y, color=color)\n",
    "\n",
    "# plot bounds \n",
    "ax1.plot(b0,   y0, color='k', alpha=0.2)\n",
    "ax1.plot(b20,  y0, color='k', alpha=0.2)\n",
    "ax1.plot(b40,  y0, color='k', alpha=0.2)\n",
    "ax1.plot(b60,  y0, color='k', alpha=0.2)\n",
    "ax1.plot(b80,  y0, color='k', alpha=0.2)\n",
    "ax1.plot(b100, y0, color='k', alpha=0.2)\n",
    "\n",
    "ax1.tick_params(axis='y', labelcolor=color)\n",
    "\n",
    "# marginal productivity\n",
    "ax2 = ax1.twinx()  \n",
    "color = 'tab:blue'\n",
    "ax2.set_ylabel('Marginal Productivity', color=color)  \n",
    "ax2.plot(x, y1, color=color)\n",
    "ax2.tick_params(axis='y', labelcolor=color)\n",
    "\n",
    "\n",
    "# create shaded regions\n",
    "ax2.fill_between(x, y1, b0, where = x <= 20,\n",
    "                 facecolor='tab:blue',alpha=0.7, interpolate=True)\n",
    "x2, y2 = [20, 20, 40, 40], [0, marginal_productivity_fn(20), marginal_productivity_fn(40), 0]\n",
    "fill(x2,y2, color='tab:blue', alpha=0.5)\n",
    "x3, y3 = [40, 40, 60, 60], [0, marginal_productivity_fn(40), marginal_productivity_fn(60), 0]\n",
    "fill(x3,y3, color='tab:blue', alpha=0.4)\n",
    "x4, y4 = [60, 60, 80, 80], [0, marginal_productivity_fn(60), marginal_productivity_fn(80), 0]\n",
    "fill(x4,y4, color='tab:blue', alpha=0.3)\n",
    "x5, y5 = [80, 80, 100, 100], [0, marginal_productivity_fn(80), marginal_productivity_fn(100), 0]\n",
    "fill(x5,y5, color='tab:blue', alpha=0.15)\n",
    "\n",
    "\n",
    "# print chart\n",
    "title ('Total Output') \n",
    "plt.tight_layout()\n",
    "\n",
    "# print results - the antiderivative of marginal productivity is the total productivity function\n",
    "for i in range(20,101,20):\n",
    "    iteration = i\n",
    "    print(f'Minutes {i-20} - {i}: {productivity_fn(i) - productivity_fn(i-20)}')"
   ]
  }
 ],
 "metadata": {
  "kernelspec": {
   "display_name": "Python 3",
   "language": "python",
   "name": "python3"
  },
  "language_info": {
   "codemirror_mode": {
    "name": "ipython",
    "version": 3
   },
   "file_extension": ".py",
   "mimetype": "text/x-python",
   "name": "python",
   "nbconvert_exporter": "python",
   "pygments_lexer": "ipython3",
   "version": "3.7.4"
  }
 },
 "nbformat": 4,
 "nbformat_minor": 2
}
